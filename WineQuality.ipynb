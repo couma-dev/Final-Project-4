{
  "nbformat": 4,
  "nbformat_minor": 0,
  "metadata": {
    "colab": {
      "name": "WineQuality.ipynb",
      "provenance": [],
      "collapsed_sections": []
    },
    "kernelspec": {
      "name": "python3",
      "display_name": "Python 3"
    },
    "language_info": {
      "name": "python"
    }
  },
  "cells": [
    {
      "cell_type": "code",
      "metadata": {
        "colab": {
          "base_uri": "https://localhost:8080/"
        },
        "id": "spEJ6RmdhKlw",
        "outputId": "4ee99a72-0d77-4537-c552-b3b955238ad2"
      },
      "source": [
        "import os\n",
        "# Find the latest version of spark 3.0  from http://www.apache.org/dist/spark/ and enter as the spark version\n",
        "# For example:\n",
        "# spark_version = 'spark-3.0.3'\n",
        "spark_version = 'spark-3.1.2'\n",
        "os.environ['SPARK_VERSION']=spark_version\n",
        "\n",
        "# Install Spark and Java\n",
        "!apt-get update\n",
        "!apt-get install openjdk-8-jdk-headless -qq > /dev/null\n",
        "!wget -q http://www.apache.org/dist/spark/$SPARK_VERSION/$SPARK_VERSION-bin-hadoop2.7.tgz\n",
        "!tar xf $SPARK_VERSION-bin-hadoop2.7.tgz\n",
        "!pip install -q findspark\n",
        "\n",
        "# Set Environment Variables\n",
        "os.environ[\"JAVA_HOME\"] = \"/usr/lib/jvm/java-8-openjdk-amd64\"\n",
        "os.environ[\"SPARK_HOME\"] = f\"/content/{spark_version}-bin-hadoop2.7\"\n",
        "\n",
        "# Start a SparkSession\n",
        "import findspark\n",
        "findspark.init()"
      ],
      "execution_count": 84,
      "outputs": [
        {
          "output_type": "stream",
          "name": "stdout",
          "text": [
            "\r0% [Working]\r            \rGet:1 https://cloud.r-project.org/bin/linux/ubuntu bionic-cran40/ InRelease [3,626 B]\n",
            "Ign:2 https://developer.download.nvidia.com/compute/cuda/repos/ubuntu1804/x86_64  InRelease\n",
            "Hit:3 http://ppa.launchpad.net/c2d4u.team/c2d4u4.0+/ubuntu bionic InRelease\n",
            "Get:4 http://security.ubuntu.com/ubuntu bionic-security InRelease [88.7 kB]\n",
            "Hit:5 http://archive.ubuntu.com/ubuntu bionic InRelease\n",
            "Ign:6 https://developer.download.nvidia.com/compute/machine-learning/repos/ubuntu1804/x86_64  InRelease\n",
            "Hit:7 https://developer.download.nvidia.com/compute/cuda/repos/ubuntu1804/x86_64  Release\n",
            "Hit:8 https://developer.download.nvidia.com/compute/machine-learning/repos/ubuntu1804/x86_64  Release\n",
            "Get:9 http://archive.ubuntu.com/ubuntu bionic-updates InRelease [88.7 kB]\n",
            "Hit:10 http://ppa.launchpad.net/cran/libgit2/ubuntu bionic InRelease\n",
            "Hit:11 http://ppa.launchpad.net/deadsnakes/ppa/ubuntu bionic InRelease\n",
            "Get:12 http://archive.ubuntu.com/ubuntu bionic-backports InRelease [74.6 kB]\n",
            "Hit:13 http://ppa.launchpad.net/graphics-drivers/ppa/ubuntu bionic InRelease\n",
            "Get:16 http://security.ubuntu.com/ubuntu bionic-security/main amd64 Packages [2,450 kB]\n",
            "Get:17 http://archive.ubuntu.com/ubuntu bionic-updates/restricted amd64 Packages [721 kB]\n",
            "Get:18 http://security.ubuntu.com/ubuntu bionic-security/restricted amd64 Packages [687 kB]\n",
            "Get:19 http://archive.ubuntu.com/ubuntu bionic-updates/main amd64 Packages [2,894 kB]\n",
            "Get:20 http://archive.ubuntu.com/ubuntu bionic-updates/universe amd64 Packages [2,225 kB]\n",
            "Fetched 9,233 kB in 3s (2,960 kB/s)\n",
            "Reading package lists... Done\n"
          ]
        }
      ]
    },
    {
      "cell_type": "code",
      "metadata": {
        "colab": {
          "base_uri": "https://localhost:8080/"
        },
        "id": "rXmNrYwvi4X4",
        "outputId": "7daf2292-8856-461a-ecc9-14c5c27a99ab"
      },
      "source": [
        "!wget https://jdbc.postgresql.org/download/postgresql-42.2.9.jar"
      ],
      "execution_count": 85,
      "outputs": [
        {
          "output_type": "stream",
          "name": "stdout",
          "text": [
            "--2021-11-30 21:50:47--  https://jdbc.postgresql.org/download/postgresql-42.2.9.jar\n",
            "Resolving jdbc.postgresql.org (jdbc.postgresql.org)... 72.32.157.228, 2001:4800:3e1:1::228\n",
            "Connecting to jdbc.postgresql.org (jdbc.postgresql.org)|72.32.157.228|:443... connected.\n",
            "HTTP request sent, awaiting response... 200 OK\n",
            "Length: 914037 (893K) [application/java-archive]\n",
            "Saving to: ‘postgresql-42.2.9.jar.1’\n",
            "\n",
            "postgresql-42.2.9.j 100%[===================>] 892.61K  5.26MB/s    in 0.2s    \n",
            "\n",
            "2021-11-30 21:50:48 (5.26 MB/s) - ‘postgresql-42.2.9.jar.1’ saved [914037/914037]\n",
            "\n"
          ]
        }
      ]
    },
    {
      "cell_type": "code",
      "metadata": {
        "id": "WmwhGUqGjI8e"
      },
      "source": [
        "# Starting the spark session:\n",
        "from pyspark.sql import SparkSession\n",
        "spark = SparkSession.builder.appName(\"CloudETL\").config(\"spark.driver.extraClassPath\",\"/content/postgresql-42.2.9.jar\").getOrCreate()"
      ],
      "execution_count": 86,
      "outputs": []
    },
    {
      "cell_type": "markdown",
      "metadata": {
        "id": "8v_YdFDpo-yr"
      },
      "source": [
        "Importing Red & White Wine CSV from Amazon AWS"
      ]
    },
    {
      "cell_type": "code",
      "metadata": {
        "colab": {
          "base_uri": "https://localhost:8080/"
        },
        "id": "wYwo4qGOjzfJ",
        "outputId": "c5fa8b80-22f9-4788-89e1-1ea1d6086712"
      },
      "source": [
        "#read in the dataframes\n",
        "# Read in data from S3 Buckets \n",
        "from pyspark import SparkFiles\n",
        "url=\"https://cliff-penn-bucket.s3.amazonaws.com/winequality-red.csv\"\n",
        "spark.sparkContext.addFile(url)\n",
        "red_wine_df = spark.read.csv(SparkFiles.get(\"winequality-red.csv\"), sep=\";\", header=True, inferSchema=True)\n",
        "\n",
        "# Show DataFrame\n",
        "red_wine_df.show()"
      ],
      "execution_count": 87,
      "outputs": [
        {
          "output_type": "stream",
          "name": "stdout",
          "text": [
            "+-------------+----------------+-----------+--------------+---------+-------------------+--------------------+-------+----+---------+-------+-------+\n",
            "|fixed acidity|volatile acidity|citric acid|residual sugar|chlorides|free sulfur dioxide|total sulfur dioxide|density|  pH|sulphates|alcohol|quality|\n",
            "+-------------+----------------+-----------+--------------+---------+-------------------+--------------------+-------+----+---------+-------+-------+\n",
            "|          7.4|             0.7|        0.0|           1.9|    0.076|               11.0|                34.0| 0.9978|3.51|     0.56|    9.4|      5|\n",
            "|          7.8|            0.88|        0.0|           2.6|    0.098|               25.0|                67.0| 0.9968| 3.2|     0.68|    9.8|      5|\n",
            "|          7.8|            0.76|       0.04|           2.3|    0.092|               15.0|                54.0|  0.997|3.26|     0.65|    9.8|      5|\n",
            "|         11.2|            0.28|       0.56|           1.9|    0.075|               17.0|                60.0|  0.998|3.16|     0.58|    9.8|      6|\n",
            "|          7.4|             0.7|        0.0|           1.9|    0.076|               11.0|                34.0| 0.9978|3.51|     0.56|    9.4|      5|\n",
            "|          7.4|            0.66|        0.0|           1.8|    0.075|               13.0|                40.0| 0.9978|3.51|     0.56|    9.4|      5|\n",
            "|          7.9|             0.6|       0.06|           1.6|    0.069|               15.0|                59.0| 0.9964| 3.3|     0.46|    9.4|      5|\n",
            "|          7.3|            0.65|        0.0|           1.2|    0.065|               15.0|                21.0| 0.9946|3.39|     0.47|   10.0|      7|\n",
            "|          7.8|            0.58|       0.02|           2.0|    0.073|                9.0|                18.0| 0.9968|3.36|     0.57|    9.5|      7|\n",
            "|          7.5|             0.5|       0.36|           6.1|    0.071|               17.0|               102.0| 0.9978|3.35|      0.8|   10.5|      5|\n",
            "|          6.7|            0.58|       0.08|           1.8|    0.097|               15.0|                65.0| 0.9959|3.28|     0.54|    9.2|      5|\n",
            "|          7.5|             0.5|       0.36|           6.1|    0.071|               17.0|               102.0| 0.9978|3.35|      0.8|   10.5|      5|\n",
            "|          5.6|           0.615|        0.0|           1.6|    0.089|               16.0|                59.0| 0.9943|3.58|     0.52|    9.9|      5|\n",
            "|          7.8|            0.61|       0.29|           1.6|    0.114|                9.0|                29.0| 0.9974|3.26|     1.56|    9.1|      5|\n",
            "|          8.9|            0.62|       0.18|           3.8|    0.176|               52.0|               145.0| 0.9986|3.16|     0.88|    9.2|      5|\n",
            "|          8.9|            0.62|       0.19|           3.9|     0.17|               51.0|               148.0| 0.9986|3.17|     0.93|    9.2|      5|\n",
            "|          8.5|            0.28|       0.56|           1.8|    0.092|               35.0|               103.0| 0.9969| 3.3|     0.75|   10.5|      7|\n",
            "|          8.1|            0.56|       0.28|           1.7|    0.368|               16.0|                56.0| 0.9968|3.11|     1.28|    9.3|      5|\n",
            "|          7.4|            0.59|       0.08|           4.4|    0.086|                6.0|                29.0| 0.9974|3.38|      0.5|    9.0|      4|\n",
            "|          7.9|            0.32|       0.51|           1.8|    0.341|               17.0|                56.0| 0.9969|3.04|     1.08|    9.2|      6|\n",
            "+-------------+----------------+-----------+--------------+---------+-------------------+--------------------+-------+----+---------+-------+-------+\n",
            "only showing top 20 rows\n",
            "\n"
          ]
        }
      ]
    },
    {
      "cell_type": "code",
      "metadata": {
        "colab": {
          "base_uri": "https://localhost:8080/"
        },
        "id": "d07BU3xgwrZm",
        "outputId": "1a114b4c-c641-4504-b86e-b578d52b6d09"
      },
      "source": [
        "url=\"https://cliff-penn-bucket.s3.amazonaws.com/winequality-white.csv\"\n",
        "spark.sparkContext.addFile(url)\n",
        "white_wine_df = spark.read.csv(SparkFiles.get(\"winequality-white.csv\"), sep=\";\", header=True, inferSchema=True)\n",
        "\n",
        "# Show DataFrame\n",
        "white_wine_df.show()"
      ],
      "execution_count": 88,
      "outputs": [
        {
          "output_type": "stream",
          "name": "stdout",
          "text": [
            "+-------------+----------------+-----------+--------------+---------+-------------------+--------------------+-------+----+---------+-------+-------+\n",
            "|fixed acidity|volatile acidity|citric acid|residual sugar|chlorides|free sulfur dioxide|total sulfur dioxide|density|  pH|sulphates|alcohol|quality|\n",
            "+-------------+----------------+-----------+--------------+---------+-------------------+--------------------+-------+----+---------+-------+-------+\n",
            "|          7.0|            0.27|       0.36|          20.7|    0.045|               45.0|               170.0|  1.001| 3.0|     0.45|    8.8|      6|\n",
            "|          6.3|             0.3|       0.34|           1.6|    0.049|               14.0|               132.0|  0.994| 3.3|     0.49|    9.5|      6|\n",
            "|          8.1|            0.28|        0.4|           6.9|     0.05|               30.0|                97.0| 0.9951|3.26|     0.44|   10.1|      6|\n",
            "|          7.2|            0.23|       0.32|           8.5|    0.058|               47.0|               186.0| 0.9956|3.19|      0.4|    9.9|      6|\n",
            "|          7.2|            0.23|       0.32|           8.5|    0.058|               47.0|               186.0| 0.9956|3.19|      0.4|    9.9|      6|\n",
            "|          8.1|            0.28|        0.4|           6.9|     0.05|               30.0|                97.0| 0.9951|3.26|     0.44|   10.1|      6|\n",
            "|          6.2|            0.32|       0.16|           7.0|    0.045|               30.0|               136.0| 0.9949|3.18|     0.47|    9.6|      6|\n",
            "|          7.0|            0.27|       0.36|          20.7|    0.045|               45.0|               170.0|  1.001| 3.0|     0.45|    8.8|      6|\n",
            "|          6.3|             0.3|       0.34|           1.6|    0.049|               14.0|               132.0|  0.994| 3.3|     0.49|    9.5|      6|\n",
            "|          8.1|            0.22|       0.43|           1.5|    0.044|               28.0|               129.0| 0.9938|3.22|     0.45|   11.0|      6|\n",
            "|          8.1|            0.27|       0.41|          1.45|    0.033|               11.0|                63.0| 0.9908|2.99|     0.56|   12.0|      5|\n",
            "|          8.6|            0.23|        0.4|           4.2|    0.035|               17.0|               109.0| 0.9947|3.14|     0.53|    9.7|      5|\n",
            "|          7.9|            0.18|       0.37|           1.2|     0.04|               16.0|                75.0|  0.992|3.18|     0.63|   10.8|      5|\n",
            "|          6.6|            0.16|        0.4|           1.5|    0.044|               48.0|               143.0| 0.9912|3.54|     0.52|   12.4|      7|\n",
            "|          8.3|            0.42|       0.62|         19.25|     0.04|               41.0|               172.0| 1.0002|2.98|     0.67|    9.7|      5|\n",
            "|          6.6|            0.17|       0.38|           1.5|    0.032|               28.0|               112.0| 0.9914|3.25|     0.55|   11.4|      7|\n",
            "|          6.3|            0.48|       0.04|           1.1|    0.046|               30.0|                99.0| 0.9928|3.24|     0.36|    9.6|      6|\n",
            "|          6.2|            0.66|       0.48|           1.2|    0.029|               29.0|                75.0| 0.9892|3.33|     0.39|   12.8|      8|\n",
            "|          7.4|            0.34|       0.42|           1.1|    0.033|               17.0|               171.0| 0.9917|3.12|     0.53|   11.3|      6|\n",
            "|          6.5|            0.31|       0.14|           7.5|    0.044|               34.0|               133.0| 0.9955|3.22|      0.5|    9.5|      5|\n",
            "+-------------+----------------+-----------+--------------+---------+-------------------+--------------------+-------+----+---------+-------+-------+\n",
            "only showing top 20 rows\n",
            "\n"
          ]
        }
      ]
    },
    {
      "cell_type": "markdown",
      "metadata": {
        "id": "rfHkf0chw99w"
      },
      "source": [
        "Data Processing steps:\n",
        "\n",
        "*   Add a columm called Wine type to each data frame and add a value of 1 to denote red wine and 0 for white wine\n",
        "\n",
        "*   Append The red wine data frame to white wine dataframe randomly to make one dataFrame\n",
        "\n",
        "\n"
      ]
    },
    {
      "cell_type": "code",
      "metadata": {
        "id": "ajhwo4pL2AsR"
      },
      "source": [
        "#Add a columm called Wine type to each data frame and add a value of 1 to denote red wine and 0 for white wine\n",
        "from pyspark.sql.functions import lit\n",
        "white_wine_df = white_wine_df.withColumn(\"Wine Type\", lit(0))"
      ],
      "execution_count": 89,
      "outputs": []
    },
    {
      "cell_type": "code",
      "metadata": {
        "id": "bkNMdonOgGlF"
      },
      "source": [
        "#Add a columm called Wine type to each data frame and add a value of 1 to denote red wine and 0 for white wine\n",
        "#Also called feature\n",
        "red_wine_df = red_wine_df.withColumn(\"Wine Type\", lit(1))"
      ],
      "execution_count": 90,
      "outputs": []
    },
    {
      "cell_type": "code",
      "metadata": {
        "id": "idsLfLxsjJe8"
      },
      "source": [
        "#Merge both Dataframes to form one dataframe using union\n",
        "Merged_Wine_df = red_wine_df.union(white_wine_df)"
      ],
      "execution_count": 91,
      "outputs": []
    },
    {
      "cell_type": "code",
      "metadata": {
        "colab": {
          "base_uri": "https://localhost:8080/"
        },
        "id": "V7W18w7mnIOB",
        "outputId": "a2e2631e-19b3-4447-db19-595da648b42c"
      },
      "source": [
        "Merged_Wine_df.show()"
      ],
      "execution_count": 92,
      "outputs": [
        {
          "output_type": "stream",
          "name": "stdout",
          "text": [
            "+-------------+----------------+-----------+--------------+---------+-------------------+--------------------+-------+----+---------+-------+-------+---------+\n",
            "|fixed acidity|volatile acidity|citric acid|residual sugar|chlorides|free sulfur dioxide|total sulfur dioxide|density|  pH|sulphates|alcohol|quality|Wine Type|\n",
            "+-------------+----------------+-----------+--------------+---------+-------------------+--------------------+-------+----+---------+-------+-------+---------+\n",
            "|          7.4|             0.7|        0.0|           1.9|    0.076|               11.0|                34.0| 0.9978|3.51|     0.56|    9.4|      5|        1|\n",
            "|          7.8|            0.88|        0.0|           2.6|    0.098|               25.0|                67.0| 0.9968| 3.2|     0.68|    9.8|      5|        1|\n",
            "|          7.8|            0.76|       0.04|           2.3|    0.092|               15.0|                54.0|  0.997|3.26|     0.65|    9.8|      5|        1|\n",
            "|         11.2|            0.28|       0.56|           1.9|    0.075|               17.0|                60.0|  0.998|3.16|     0.58|    9.8|      6|        1|\n",
            "|          7.4|             0.7|        0.0|           1.9|    0.076|               11.0|                34.0| 0.9978|3.51|     0.56|    9.4|      5|        1|\n",
            "|          7.4|            0.66|        0.0|           1.8|    0.075|               13.0|                40.0| 0.9978|3.51|     0.56|    9.4|      5|        1|\n",
            "|          7.9|             0.6|       0.06|           1.6|    0.069|               15.0|                59.0| 0.9964| 3.3|     0.46|    9.4|      5|        1|\n",
            "|          7.3|            0.65|        0.0|           1.2|    0.065|               15.0|                21.0| 0.9946|3.39|     0.47|   10.0|      7|        1|\n",
            "|          7.8|            0.58|       0.02|           2.0|    0.073|                9.0|                18.0| 0.9968|3.36|     0.57|    9.5|      7|        1|\n",
            "|          7.5|             0.5|       0.36|           6.1|    0.071|               17.0|               102.0| 0.9978|3.35|      0.8|   10.5|      5|        1|\n",
            "|          6.7|            0.58|       0.08|           1.8|    0.097|               15.0|                65.0| 0.9959|3.28|     0.54|    9.2|      5|        1|\n",
            "|          7.5|             0.5|       0.36|           6.1|    0.071|               17.0|               102.0| 0.9978|3.35|      0.8|   10.5|      5|        1|\n",
            "|          5.6|           0.615|        0.0|           1.6|    0.089|               16.0|                59.0| 0.9943|3.58|     0.52|    9.9|      5|        1|\n",
            "|          7.8|            0.61|       0.29|           1.6|    0.114|                9.0|                29.0| 0.9974|3.26|     1.56|    9.1|      5|        1|\n",
            "|          8.9|            0.62|       0.18|           3.8|    0.176|               52.0|               145.0| 0.9986|3.16|     0.88|    9.2|      5|        1|\n",
            "|          8.9|            0.62|       0.19|           3.9|     0.17|               51.0|               148.0| 0.9986|3.17|     0.93|    9.2|      5|        1|\n",
            "|          8.5|            0.28|       0.56|           1.8|    0.092|               35.0|               103.0| 0.9969| 3.3|     0.75|   10.5|      7|        1|\n",
            "|          8.1|            0.56|       0.28|           1.7|    0.368|               16.0|                56.0| 0.9968|3.11|     1.28|    9.3|      5|        1|\n",
            "|          7.4|            0.59|       0.08|           4.4|    0.086|                6.0|                29.0| 0.9974|3.38|      0.5|    9.0|      4|        1|\n",
            "|          7.9|            0.32|       0.51|           1.8|    0.341|               17.0|                56.0| 0.9969|3.04|     1.08|    9.2|      6|        1|\n",
            "+-------------+----------------+-----------+--------------+---------+-------------------+--------------------+-------+----+---------+-------+-------+---------+\n",
            "only showing top 20 rows\n",
            "\n"
          ]
        }
      ]
    },
    {
      "cell_type": "code",
      "metadata": {
        "id": "40NBxr_twKeG"
      },
      "source": [
        "# SQL has some keywords such a Type and volatile and using those names when trying to create schemas will cause issues so I have to rename some of the columms.\n",
        "Merged_Wine_df =Merged_Wine_df.withColumnRenamed('Wine Type','Wine_Type')\\\n",
        ".withColumnRenamed('volatile acidity','volatile_acidity')\\\n",
        ".withColumnRenamed('free sulfur dioxide','free_sulfur_dioxide')\\\n",
        ".withColumnRenamed('fixed acidity', 'fixed_acidity')\\\n",
        ".withColumnRenamed('citric acid','citric_acid')\\\n",
        ".withColumnRenamed('residual sugar','residual_sugar')\\\n",
        ".withColumnRenamed('total sulfur dioxide','total_sulfur_dioxide')\n",
        "\n"
      ],
      "execution_count": 93,
      "outputs": []
    },
    {
      "cell_type": "markdown",
      "metadata": {
        "id": "CQc20j64pN2X"
      },
      "source": [
        "Configuring data for RDS \n",
        "*   creating a table called Wine data\n",
        "*   Use Amazon RDS to load the data in Posgres SQL\n",
        "\n",
        "\n",
        "\n"
      ]
    },
    {
      "cell_type": "code",
      "metadata": {
        "id": "zvG_Hg9AqDpM"
      },
      "source": [
        "# Configure settings for RDS\n",
        "mode = \"append\"\n",
        "jdbc_url=\"jdbc:postgresql://aws-cliff-penn-db.cceezfgk7xh7.us-east-1.rds.amazonaws.com:5432/postgres\"\n",
        "config = {\"user\":\"postgres\", \n",
        "          \"password\": \"Walnut69#$\", \n",
        "          \"driver\":\"org.postgresql.Driver\"}"
      ],
      "execution_count": 94,
      "outputs": []
    },
    {
      "cell_type": "code",
      "metadata": {
        "id": "zINrAG_3wJXT"
      },
      "source": [
        "#writing the Dataframe to wine\n",
        "Merged_Wine_df.write.jdbc(url=jdbc_url, table='wine_data', mode=mode, properties=config)"
      ],
      "execution_count": 95,
      "outputs": []
    },
    {
      "cell_type": "code",
      "metadata": {
        "colab": {
          "base_uri": "https://localhost:8080/"
        },
        "id": "EC0HSF7cEzYE",
        "outputId": "c162f92f-3699-4f38-d225-5c2246bfa42d"
      },
      "source": [
        "type(Merged_Wine_df)\n"
      ],
      "execution_count": 96,
      "outputs": [
        {
          "output_type": "execute_result",
          "data": {
            "text/plain": [
              "pyspark.sql.dataframe.DataFrame"
            ]
          },
          "metadata": {},
          "execution_count": 96
        }
      ]
    },
    {
      "cell_type": "markdown",
      "metadata": {
        "id": "J2maRLATE--K"
      },
      "source": [
        "**In order to continue with Machine Learning part of this project, I have converted the Pyspark Dataframe to A Pandas DataFrame**"
      ]
    },
    {
      "cell_type": "code",
      "metadata": {
        "colab": {
          "base_uri": "https://localhost:8080/",
          "height": 224
        },
        "id": "uVHrYFglCMj0",
        "outputId": "eeede1b5-b223-4c61-8fef-0708df615717"
      },
      "source": [
        "# convert the data to pyspark dataframe to pandas dataframe.\n",
        "pd_Wine_df = Merged_Wine_df.toPandas()\n",
        "pd_Wine_df.head()"
      ],
      "execution_count": 97,
      "outputs": [
        {
          "output_type": "execute_result",
          "data": {
            "text/html": [
              "<div>\n",
              "<style scoped>\n",
              "    .dataframe tbody tr th:only-of-type {\n",
              "        vertical-align: middle;\n",
              "    }\n",
              "\n",
              "    .dataframe tbody tr th {\n",
              "        vertical-align: top;\n",
              "    }\n",
              "\n",
              "    .dataframe thead th {\n",
              "        text-align: right;\n",
              "    }\n",
              "</style>\n",
              "<table border=\"1\" class=\"dataframe\">\n",
              "  <thead>\n",
              "    <tr style=\"text-align: right;\">\n",
              "      <th></th>\n",
              "      <th>fixed_acidity</th>\n",
              "      <th>volatile_acidity</th>\n",
              "      <th>citric_acid</th>\n",
              "      <th>residual_sugar</th>\n",
              "      <th>chlorides</th>\n",
              "      <th>free_sulfur_dioxide</th>\n",
              "      <th>total_sulfur_dioxide</th>\n",
              "      <th>density</th>\n",
              "      <th>pH</th>\n",
              "      <th>sulphates</th>\n",
              "      <th>alcohol</th>\n",
              "      <th>quality</th>\n",
              "      <th>Wine_Type</th>\n",
              "    </tr>\n",
              "  </thead>\n",
              "  <tbody>\n",
              "    <tr>\n",
              "      <th>0</th>\n",
              "      <td>7.4</td>\n",
              "      <td>0.70</td>\n",
              "      <td>0.00</td>\n",
              "      <td>1.9</td>\n",
              "      <td>0.076</td>\n",
              "      <td>11.0</td>\n",
              "      <td>34.0</td>\n",
              "      <td>0.9978</td>\n",
              "      <td>3.51</td>\n",
              "      <td>0.56</td>\n",
              "      <td>9.4</td>\n",
              "      <td>5</td>\n",
              "      <td>1</td>\n",
              "    </tr>\n",
              "    <tr>\n",
              "      <th>1</th>\n",
              "      <td>7.8</td>\n",
              "      <td>0.88</td>\n",
              "      <td>0.00</td>\n",
              "      <td>2.6</td>\n",
              "      <td>0.098</td>\n",
              "      <td>25.0</td>\n",
              "      <td>67.0</td>\n",
              "      <td>0.9968</td>\n",
              "      <td>3.20</td>\n",
              "      <td>0.68</td>\n",
              "      <td>9.8</td>\n",
              "      <td>5</td>\n",
              "      <td>1</td>\n",
              "    </tr>\n",
              "    <tr>\n",
              "      <th>2</th>\n",
              "      <td>7.8</td>\n",
              "      <td>0.76</td>\n",
              "      <td>0.04</td>\n",
              "      <td>2.3</td>\n",
              "      <td>0.092</td>\n",
              "      <td>15.0</td>\n",
              "      <td>54.0</td>\n",
              "      <td>0.9970</td>\n",
              "      <td>3.26</td>\n",
              "      <td>0.65</td>\n",
              "      <td>9.8</td>\n",
              "      <td>5</td>\n",
              "      <td>1</td>\n",
              "    </tr>\n",
              "    <tr>\n",
              "      <th>3</th>\n",
              "      <td>11.2</td>\n",
              "      <td>0.28</td>\n",
              "      <td>0.56</td>\n",
              "      <td>1.9</td>\n",
              "      <td>0.075</td>\n",
              "      <td>17.0</td>\n",
              "      <td>60.0</td>\n",
              "      <td>0.9980</td>\n",
              "      <td>3.16</td>\n",
              "      <td>0.58</td>\n",
              "      <td>9.8</td>\n",
              "      <td>6</td>\n",
              "      <td>1</td>\n",
              "    </tr>\n",
              "    <tr>\n",
              "      <th>4</th>\n",
              "      <td>7.4</td>\n",
              "      <td>0.70</td>\n",
              "      <td>0.00</td>\n",
              "      <td>1.9</td>\n",
              "      <td>0.076</td>\n",
              "      <td>11.0</td>\n",
              "      <td>34.0</td>\n",
              "      <td>0.9978</td>\n",
              "      <td>3.51</td>\n",
              "      <td>0.56</td>\n",
              "      <td>9.4</td>\n",
              "      <td>5</td>\n",
              "      <td>1</td>\n",
              "    </tr>\n",
              "  </tbody>\n",
              "</table>\n",
              "</div>"
            ],
            "text/plain": [
              "   fixed_acidity  volatile_acidity  citric_acid  ...  alcohol  quality  Wine_Type\n",
              "0            7.4              0.70         0.00  ...      9.4        5          1\n",
              "1            7.8              0.88         0.00  ...      9.8        5          1\n",
              "2            7.8              0.76         0.04  ...      9.8        5          1\n",
              "3           11.2              0.28         0.56  ...      9.8        6          1\n",
              "4            7.4              0.70         0.00  ...      9.4        5          1\n",
              "\n",
              "[5 rows x 13 columns]"
            ]
          },
          "metadata": {},
          "execution_count": 97
        }
      ]
    },
    {
      "cell_type": "code",
      "metadata": {
        "id": "sn0yje2w6fHm"
      },
      "source": [
        "import numpy as np\n",
        "import pandas as pd\n",
        "import matplotlib.pyplot as plt\n",
        "import seaborn as sns\n",
        "import nltk\n",
        "import re\n",
        "from sklearn.model_selection import train_test_split\n",
        "from sklearn.metrics import classification_report, accuracy_score, confusion_matrix\n",
        "from sklearn.linear_model import LogisticRegression\n",
        "from sklearn.ensemble import RandomForestClassifier\n",
        "from sklearn.svm import SVC \n",
        "from sklearn.preprocessing import StandardScaler\n",
        "\n"
      ],
      "execution_count": 98,
      "outputs": []
    },
    {
      "cell_type": "code",
      "metadata": {
        "colab": {
          "base_uri": "https://localhost:8080/",
          "height": 689
        },
        "id": "k-Z_rfGyD4sz",
        "outputId": "b0750e49-c9bc-4f7a-d226-e63530c33ffd"
      },
      "source": [
        "# because the red is at the top of the dataframe and the white wine is at the bottom of the dataframe, we are going to use sklearn to randomly shuffle the dataframes.\n",
        "\n",
        "from sklearn.utils import shuffle\n",
        "pd_Wine_df = shuffle(pd_Wine_df)\n",
        "pd_Wine_df.reset_index(inplace=True, drop=True)\n",
        "pd_Wine_df.head(20)"
      ],
      "execution_count": 99,
      "outputs": [
        {
          "output_type": "execute_result",
          "data": {
            "text/html": [
              "<div>\n",
              "<style scoped>\n",
              "    .dataframe tbody tr th:only-of-type {\n",
              "        vertical-align: middle;\n",
              "    }\n",
              "\n",
              "    .dataframe tbody tr th {\n",
              "        vertical-align: top;\n",
              "    }\n",
              "\n",
              "    .dataframe thead th {\n",
              "        text-align: right;\n",
              "    }\n",
              "</style>\n",
              "<table border=\"1\" class=\"dataframe\">\n",
              "  <thead>\n",
              "    <tr style=\"text-align: right;\">\n",
              "      <th></th>\n",
              "      <th>fixed_acidity</th>\n",
              "      <th>volatile_acidity</th>\n",
              "      <th>citric_acid</th>\n",
              "      <th>residual_sugar</th>\n",
              "      <th>chlorides</th>\n",
              "      <th>free_sulfur_dioxide</th>\n",
              "      <th>total_sulfur_dioxide</th>\n",
              "      <th>density</th>\n",
              "      <th>pH</th>\n",
              "      <th>sulphates</th>\n",
              "      <th>alcohol</th>\n",
              "      <th>quality</th>\n",
              "      <th>Wine_Type</th>\n",
              "    </tr>\n",
              "  </thead>\n",
              "  <tbody>\n",
              "    <tr>\n",
              "      <th>0</th>\n",
              "      <td>5.7</td>\n",
              "      <td>0.280</td>\n",
              "      <td>0.24</td>\n",
              "      <td>17.5</td>\n",
              "      <td>0.044</td>\n",
              "      <td>60.0</td>\n",
              "      <td>167.0</td>\n",
              "      <td>0.99890</td>\n",
              "      <td>3.31</td>\n",
              "      <td>0.44</td>\n",
              "      <td>9.40</td>\n",
              "      <td>5</td>\n",
              "      <td>0</td>\n",
              "    </tr>\n",
              "    <tr>\n",
              "      <th>1</th>\n",
              "      <td>7.6</td>\n",
              "      <td>0.200</td>\n",
              "      <td>0.26</td>\n",
              "      <td>4.5</td>\n",
              "      <td>0.086</td>\n",
              "      <td>37.0</td>\n",
              "      <td>133.0</td>\n",
              "      <td>0.99630</td>\n",
              "      <td>3.15</td>\n",
              "      <td>0.42</td>\n",
              "      <td>9.20</td>\n",
              "      <td>5</td>\n",
              "      <td>0</td>\n",
              "    </tr>\n",
              "    <tr>\n",
              "      <th>2</th>\n",
              "      <td>6.7</td>\n",
              "      <td>0.150</td>\n",
              "      <td>0.29</td>\n",
              "      <td>5.0</td>\n",
              "      <td>0.058</td>\n",
              "      <td>28.0</td>\n",
              "      <td>105.0</td>\n",
              "      <td>0.99460</td>\n",
              "      <td>3.52</td>\n",
              "      <td>0.44</td>\n",
              "      <td>10.20</td>\n",
              "      <td>7</td>\n",
              "      <td>0</td>\n",
              "    </tr>\n",
              "    <tr>\n",
              "      <th>3</th>\n",
              "      <td>7.1</td>\n",
              "      <td>0.260</td>\n",
              "      <td>0.37</td>\n",
              "      <td>5.5</td>\n",
              "      <td>0.025</td>\n",
              "      <td>31.0</td>\n",
              "      <td>105.0</td>\n",
              "      <td>0.99082</td>\n",
              "      <td>3.06</td>\n",
              "      <td>0.33</td>\n",
              "      <td>12.60</td>\n",
              "      <td>8</td>\n",
              "      <td>0</td>\n",
              "    </tr>\n",
              "    <tr>\n",
              "      <th>4</th>\n",
              "      <td>6.2</td>\n",
              "      <td>0.440</td>\n",
              "      <td>0.39</td>\n",
              "      <td>2.5</td>\n",
              "      <td>0.077</td>\n",
              "      <td>6.0</td>\n",
              "      <td>14.0</td>\n",
              "      <td>0.99555</td>\n",
              "      <td>3.51</td>\n",
              "      <td>0.69</td>\n",
              "      <td>11.00</td>\n",
              "      <td>6</td>\n",
              "      <td>1</td>\n",
              "    </tr>\n",
              "    <tr>\n",
              "      <th>5</th>\n",
              "      <td>7.1</td>\n",
              "      <td>0.140</td>\n",
              "      <td>0.35</td>\n",
              "      <td>1.4</td>\n",
              "      <td>0.039</td>\n",
              "      <td>24.0</td>\n",
              "      <td>128.0</td>\n",
              "      <td>0.99212</td>\n",
              "      <td>2.97</td>\n",
              "      <td>0.68</td>\n",
              "      <td>10.40</td>\n",
              "      <td>5</td>\n",
              "      <td>0</td>\n",
              "    </tr>\n",
              "    <tr>\n",
              "      <th>6</th>\n",
              "      <td>6.1</td>\n",
              "      <td>0.255</td>\n",
              "      <td>0.44</td>\n",
              "      <td>12.3</td>\n",
              "      <td>0.045</td>\n",
              "      <td>53.0</td>\n",
              "      <td>197.0</td>\n",
              "      <td>0.99670</td>\n",
              "      <td>3.24</td>\n",
              "      <td>0.54</td>\n",
              "      <td>9.50</td>\n",
              "      <td>6</td>\n",
              "      <td>0</td>\n",
              "    </tr>\n",
              "    <tr>\n",
              "      <th>7</th>\n",
              "      <td>7.0</td>\n",
              "      <td>0.180</td>\n",
              "      <td>0.37</td>\n",
              "      <td>1.5</td>\n",
              "      <td>0.043</td>\n",
              "      <td>16.0</td>\n",
              "      <td>104.0</td>\n",
              "      <td>0.99216</td>\n",
              "      <td>3.18</td>\n",
              "      <td>0.50</td>\n",
              "      <td>10.80</td>\n",
              "      <td>5</td>\n",
              "      <td>0</td>\n",
              "    </tr>\n",
              "    <tr>\n",
              "      <th>8</th>\n",
              "      <td>7.4</td>\n",
              "      <td>0.260</td>\n",
              "      <td>0.30</td>\n",
              "      <td>7.9</td>\n",
              "      <td>0.049</td>\n",
              "      <td>38.0</td>\n",
              "      <td>157.0</td>\n",
              "      <td>0.99630</td>\n",
              "      <td>3.13</td>\n",
              "      <td>0.48</td>\n",
              "      <td>8.90</td>\n",
              "      <td>6</td>\n",
              "      <td>0</td>\n",
              "    </tr>\n",
              "    <tr>\n",
              "      <th>9</th>\n",
              "      <td>6.2</td>\n",
              "      <td>0.260</td>\n",
              "      <td>0.20</td>\n",
              "      <td>8.0</td>\n",
              "      <td>0.047</td>\n",
              "      <td>35.0</td>\n",
              "      <td>111.0</td>\n",
              "      <td>0.99445</td>\n",
              "      <td>3.11</td>\n",
              "      <td>0.42</td>\n",
              "      <td>10.40</td>\n",
              "      <td>6</td>\n",
              "      <td>0</td>\n",
              "    </tr>\n",
              "    <tr>\n",
              "      <th>10</th>\n",
              "      <td>8.4</td>\n",
              "      <td>0.620</td>\n",
              "      <td>0.12</td>\n",
              "      <td>1.8</td>\n",
              "      <td>0.072</td>\n",
              "      <td>38.0</td>\n",
              "      <td>46.0</td>\n",
              "      <td>0.99504</td>\n",
              "      <td>3.38</td>\n",
              "      <td>0.89</td>\n",
              "      <td>11.80</td>\n",
              "      <td>6</td>\n",
              "      <td>1</td>\n",
              "    </tr>\n",
              "    <tr>\n",
              "      <th>11</th>\n",
              "      <td>6.8</td>\n",
              "      <td>0.220</td>\n",
              "      <td>0.32</td>\n",
              "      <td>5.9</td>\n",
              "      <td>0.054</td>\n",
              "      <td>40.0</td>\n",
              "      <td>152.0</td>\n",
              "      <td>0.99380</td>\n",
              "      <td>3.20</td>\n",
              "      <td>0.57</td>\n",
              "      <td>10.80</td>\n",
              "      <td>6</td>\n",
              "      <td>0</td>\n",
              "    </tr>\n",
              "    <tr>\n",
              "      <th>12</th>\n",
              "      <td>6.8</td>\n",
              "      <td>0.340</td>\n",
              "      <td>0.36</td>\n",
              "      <td>8.9</td>\n",
              "      <td>0.029</td>\n",
              "      <td>44.0</td>\n",
              "      <td>128.0</td>\n",
              "      <td>0.99318</td>\n",
              "      <td>3.28</td>\n",
              "      <td>0.35</td>\n",
              "      <td>11.95</td>\n",
              "      <td>7</td>\n",
              "      <td>0</td>\n",
              "    </tr>\n",
              "    <tr>\n",
              "      <th>13</th>\n",
              "      <td>5.9</td>\n",
              "      <td>0.340</td>\n",
              "      <td>0.22</td>\n",
              "      <td>2.4</td>\n",
              "      <td>0.030</td>\n",
              "      <td>19.0</td>\n",
              "      <td>135.0</td>\n",
              "      <td>0.98940</td>\n",
              "      <td>3.41</td>\n",
              "      <td>0.78</td>\n",
              "      <td>13.90</td>\n",
              "      <td>7</td>\n",
              "      <td>0</td>\n",
              "    </tr>\n",
              "    <tr>\n",
              "      <th>14</th>\n",
              "      <td>6.6</td>\n",
              "      <td>0.500</td>\n",
              "      <td>0.04</td>\n",
              "      <td>2.1</td>\n",
              "      <td>0.068</td>\n",
              "      <td>6.0</td>\n",
              "      <td>14.0</td>\n",
              "      <td>0.99550</td>\n",
              "      <td>3.39</td>\n",
              "      <td>0.64</td>\n",
              "      <td>9.40</td>\n",
              "      <td>6</td>\n",
              "      <td>1</td>\n",
              "    </tr>\n",
              "    <tr>\n",
              "      <th>15</th>\n",
              "      <td>6.2</td>\n",
              "      <td>0.280</td>\n",
              "      <td>0.28</td>\n",
              "      <td>4.3</td>\n",
              "      <td>0.026</td>\n",
              "      <td>22.0</td>\n",
              "      <td>105.0</td>\n",
              "      <td>0.98900</td>\n",
              "      <td>2.98</td>\n",
              "      <td>0.64</td>\n",
              "      <td>13.10</td>\n",
              "      <td>8</td>\n",
              "      <td>0</td>\n",
              "    </tr>\n",
              "    <tr>\n",
              "      <th>16</th>\n",
              "      <td>7.4</td>\n",
              "      <td>0.190</td>\n",
              "      <td>0.31</td>\n",
              "      <td>14.5</td>\n",
              "      <td>0.045</td>\n",
              "      <td>39.0</td>\n",
              "      <td>193.0</td>\n",
              "      <td>0.99860</td>\n",
              "      <td>3.10</td>\n",
              "      <td>0.50</td>\n",
              "      <td>9.20</td>\n",
              "      <td>6</td>\n",
              "      <td>0</td>\n",
              "    </tr>\n",
              "    <tr>\n",
              "      <th>17</th>\n",
              "      <td>7.2</td>\n",
              "      <td>0.320</td>\n",
              "      <td>0.40</td>\n",
              "      <td>8.7</td>\n",
              "      <td>0.038</td>\n",
              "      <td>45.0</td>\n",
              "      <td>154.0</td>\n",
              "      <td>0.99568</td>\n",
              "      <td>3.20</td>\n",
              "      <td>0.47</td>\n",
              "      <td>10.40</td>\n",
              "      <td>6</td>\n",
              "      <td>0</td>\n",
              "    </tr>\n",
              "    <tr>\n",
              "      <th>18</th>\n",
              "      <td>8.9</td>\n",
              "      <td>0.430</td>\n",
              "      <td>0.45</td>\n",
              "      <td>1.9</td>\n",
              "      <td>0.052</td>\n",
              "      <td>6.0</td>\n",
              "      <td>16.0</td>\n",
              "      <td>0.99480</td>\n",
              "      <td>3.35</td>\n",
              "      <td>0.70</td>\n",
              "      <td>12.50</td>\n",
              "      <td>6</td>\n",
              "      <td>1</td>\n",
              "    </tr>\n",
              "    <tr>\n",
              "      <th>19</th>\n",
              "      <td>9.6</td>\n",
              "      <td>0.680</td>\n",
              "      <td>0.24</td>\n",
              "      <td>2.2</td>\n",
              "      <td>0.087</td>\n",
              "      <td>5.0</td>\n",
              "      <td>28.0</td>\n",
              "      <td>0.99880</td>\n",
              "      <td>3.14</td>\n",
              "      <td>0.60</td>\n",
              "      <td>10.20</td>\n",
              "      <td>5</td>\n",
              "      <td>1</td>\n",
              "    </tr>\n",
              "  </tbody>\n",
              "</table>\n",
              "</div>"
            ],
            "text/plain": [
              "    fixed_acidity  volatile_acidity  citric_acid  ...  alcohol  quality  Wine_Type\n",
              "0             5.7             0.280         0.24  ...     9.40        5          0\n",
              "1             7.6             0.200         0.26  ...     9.20        5          0\n",
              "2             6.7             0.150         0.29  ...    10.20        7          0\n",
              "3             7.1             0.260         0.37  ...    12.60        8          0\n",
              "4             6.2             0.440         0.39  ...    11.00        6          1\n",
              "5             7.1             0.140         0.35  ...    10.40        5          0\n",
              "6             6.1             0.255         0.44  ...     9.50        6          0\n",
              "7             7.0             0.180         0.37  ...    10.80        5          0\n",
              "8             7.4             0.260         0.30  ...     8.90        6          0\n",
              "9             6.2             0.260         0.20  ...    10.40        6          0\n",
              "10            8.4             0.620         0.12  ...    11.80        6          1\n",
              "11            6.8             0.220         0.32  ...    10.80        6          0\n",
              "12            6.8             0.340         0.36  ...    11.95        7          0\n",
              "13            5.9             0.340         0.22  ...    13.90        7          0\n",
              "14            6.6             0.500         0.04  ...     9.40        6          1\n",
              "15            6.2             0.280         0.28  ...    13.10        8          0\n",
              "16            7.4             0.190         0.31  ...     9.20        6          0\n",
              "17            7.2             0.320         0.40  ...    10.40        6          0\n",
              "18            8.9             0.430         0.45  ...    12.50        6          1\n",
              "19            9.6             0.680         0.24  ...    10.20        5          1\n",
              "\n",
              "[20 rows x 13 columns]"
            ]
          },
          "metadata": {},
          "execution_count": 99
        }
      ]
    },
    {
      "cell_type": "markdown",
      "metadata": {
        "id": "77ai3HRdAy0o"
      },
      "source": [
        "Splitting the dataset into manual testing and machine learning data sets\n",
        "This is achieved by taking the top 5 rows and bottom 5 rows and joining them together, these rows are also removed from the dataset.\n",
        "\n",
        "\n"
      ]
    },
    {
      "cell_type": "code",
      "metadata": {
        "colab": {
          "base_uri": "https://localhost:8080/"
        },
        "id": "spyMnpNgUzIy",
        "outputId": "b235cfd7-fd04-4c19-b110-4980d8973179"
      },
      "source": [
        "pd_Wine_df.shape"
      ],
      "execution_count": 100,
      "outputs": [
        {
          "output_type": "execute_result",
          "data": {
            "text/plain": [
              "(6497, 13)"
            ]
          },
          "metadata": {},
          "execution_count": 100
        }
      ]
    },
    {
      "cell_type": "code",
      "metadata": {
        "id": "i-M4qkfdYKj9"
      },
      "source": [
        ""
      ],
      "execution_count": null,
      "outputs": []
    },
    {
      "cell_type": "code",
      "metadata": {
        "colab": {
          "base_uri": "https://localhost:8080/"
        },
        "id": "cyAGZGt1S5x5",
        "outputId": "2bf659b7-1d2c-4e01-8fa9-29377684d5b8"
      },
      "source": [
        "pd_Wine_df['quality'].value_counts"
      ],
      "execution_count": 101,
      "outputs": [
        {
          "output_type": "execute_result",
          "data": {
            "text/plain": [
              "<bound method IndexOpsMixin.value_counts of 0       5\n",
              "1       5\n",
              "2       7\n",
              "3       8\n",
              "4       6\n",
              "       ..\n",
              "6492    7\n",
              "6493    7\n",
              "6494    6\n",
              "6495    5\n",
              "6496    6\n",
              "Name: quality, Length: 6497, dtype: int32>"
            ]
          },
          "metadata": {},
          "execution_count": 101
        }
      ]
    },
    {
      "cell_type": "code",
      "metadata": {
        "id": "wMhZnzzYBnA_"
      },
      "source": [
        "#creating the manual testing  datasets by taking the last 20 rows of the data set\n",
        "Manual_wine_test_df = pd_Wine_df.tail(20)\n",
        "#removing the manual testing dataframes from our wine dataset by iterating through the all rows\n",
        "for i in range (6496, 6476, -1):\n",
        "  pd_Wine_df.drop([i], axis = 0, inplace = True)\n"
      ],
      "execution_count": 102,
      "outputs": []
    },
    {
      "cell_type": "code",
      "metadata": {
        "colab": {
          "base_uri": "https://localhost:8080/",
          "height": 689
        },
        "id": "a0-1BDUvRF81",
        "outputId": "d9580b5e-b72c-4ff9-fcab-787e1a967bac"
      },
      "source": [
        "Manual_wine_test_df"
      ],
      "execution_count": 103,
      "outputs": [
        {
          "output_type": "execute_result",
          "data": {
            "text/html": [
              "<div>\n",
              "<style scoped>\n",
              "    .dataframe tbody tr th:only-of-type {\n",
              "        vertical-align: middle;\n",
              "    }\n",
              "\n",
              "    .dataframe tbody tr th {\n",
              "        vertical-align: top;\n",
              "    }\n",
              "\n",
              "    .dataframe thead th {\n",
              "        text-align: right;\n",
              "    }\n",
              "</style>\n",
              "<table border=\"1\" class=\"dataframe\">\n",
              "  <thead>\n",
              "    <tr style=\"text-align: right;\">\n",
              "      <th></th>\n",
              "      <th>fixed_acidity</th>\n",
              "      <th>volatile_acidity</th>\n",
              "      <th>citric_acid</th>\n",
              "      <th>residual_sugar</th>\n",
              "      <th>chlorides</th>\n",
              "      <th>free_sulfur_dioxide</th>\n",
              "      <th>total_sulfur_dioxide</th>\n",
              "      <th>density</th>\n",
              "      <th>pH</th>\n",
              "      <th>sulphates</th>\n",
              "      <th>alcohol</th>\n",
              "      <th>quality</th>\n",
              "      <th>Wine_Type</th>\n",
              "    </tr>\n",
              "  </thead>\n",
              "  <tbody>\n",
              "    <tr>\n",
              "      <th>6477</th>\n",
              "      <td>6.9</td>\n",
              "      <td>0.320</td>\n",
              "      <td>0.15</td>\n",
              "      <td>8.10</td>\n",
              "      <td>0.046</td>\n",
              "      <td>51.0</td>\n",
              "      <td>180.0</td>\n",
              "      <td>0.99580</td>\n",
              "      <td>3.13</td>\n",
              "      <td>0.45</td>\n",
              "      <td>8.9</td>\n",
              "      <td>5</td>\n",
              "      <td>0</td>\n",
              "    </tr>\n",
              "    <tr>\n",
              "      <th>6478</th>\n",
              "      <td>7.0</td>\n",
              "      <td>0.290</td>\n",
              "      <td>0.33</td>\n",
              "      <td>0.90</td>\n",
              "      <td>0.041</td>\n",
              "      <td>20.0</td>\n",
              "      <td>117.0</td>\n",
              "      <td>0.99048</td>\n",
              "      <td>3.21</td>\n",
              "      <td>0.50</td>\n",
              "      <td>11.4</td>\n",
              "      <td>5</td>\n",
              "      <td>0</td>\n",
              "    </tr>\n",
              "    <tr>\n",
              "      <th>6479</th>\n",
              "      <td>7.1</td>\n",
              "      <td>0.180</td>\n",
              "      <td>0.74</td>\n",
              "      <td>15.60</td>\n",
              "      <td>0.044</td>\n",
              "      <td>44.0</td>\n",
              "      <td>176.0</td>\n",
              "      <td>0.99960</td>\n",
              "      <td>3.38</td>\n",
              "      <td>0.67</td>\n",
              "      <td>9.0</td>\n",
              "      <td>6</td>\n",
              "      <td>0</td>\n",
              "    </tr>\n",
              "    <tr>\n",
              "      <th>6480</th>\n",
              "      <td>5.4</td>\n",
              "      <td>0.740</td>\n",
              "      <td>0.00</td>\n",
              "      <td>1.20</td>\n",
              "      <td>0.041</td>\n",
              "      <td>16.0</td>\n",
              "      <td>46.0</td>\n",
              "      <td>0.99258</td>\n",
              "      <td>4.01</td>\n",
              "      <td>0.59</td>\n",
              "      <td>12.5</td>\n",
              "      <td>6</td>\n",
              "      <td>1</td>\n",
              "    </tr>\n",
              "    <tr>\n",
              "      <th>6481</th>\n",
              "      <td>6.1</td>\n",
              "      <td>0.380</td>\n",
              "      <td>0.14</td>\n",
              "      <td>3.90</td>\n",
              "      <td>0.060</td>\n",
              "      <td>27.0</td>\n",
              "      <td>113.0</td>\n",
              "      <td>0.99344</td>\n",
              "      <td>3.07</td>\n",
              "      <td>0.34</td>\n",
              "      <td>9.2</td>\n",
              "      <td>4</td>\n",
              "      <td>0</td>\n",
              "    </tr>\n",
              "    <tr>\n",
              "      <th>6482</th>\n",
              "      <td>6.0</td>\n",
              "      <td>0.430</td>\n",
              "      <td>0.34</td>\n",
              "      <td>7.60</td>\n",
              "      <td>0.045</td>\n",
              "      <td>25.0</td>\n",
              "      <td>118.0</td>\n",
              "      <td>0.99222</td>\n",
              "      <td>3.03</td>\n",
              "      <td>0.37</td>\n",
              "      <td>11.0</td>\n",
              "      <td>6</td>\n",
              "      <td>0</td>\n",
              "    </tr>\n",
              "    <tr>\n",
              "      <th>6483</th>\n",
              "      <td>6.7</td>\n",
              "      <td>0.300</td>\n",
              "      <td>0.50</td>\n",
              "      <td>12.10</td>\n",
              "      <td>0.045</td>\n",
              "      <td>38.0</td>\n",
              "      <td>127.0</td>\n",
              "      <td>0.99740</td>\n",
              "      <td>3.04</td>\n",
              "      <td>0.53</td>\n",
              "      <td>8.9</td>\n",
              "      <td>6</td>\n",
              "      <td>0</td>\n",
              "    </tr>\n",
              "    <tr>\n",
              "      <th>6484</th>\n",
              "      <td>6.9</td>\n",
              "      <td>0.210</td>\n",
              "      <td>0.62</td>\n",
              "      <td>6.30</td>\n",
              "      <td>0.042</td>\n",
              "      <td>7.0</td>\n",
              "      <td>109.0</td>\n",
              "      <td>0.99358</td>\n",
              "      <td>2.96</td>\n",
              "      <td>0.59</td>\n",
              "      <td>10.2</td>\n",
              "      <td>6</td>\n",
              "      <td>0</td>\n",
              "    </tr>\n",
              "    <tr>\n",
              "      <th>6485</th>\n",
              "      <td>5.9</td>\n",
              "      <td>0.540</td>\n",
              "      <td>0.00</td>\n",
              "      <td>0.80</td>\n",
              "      <td>0.032</td>\n",
              "      <td>12.0</td>\n",
              "      <td>82.0</td>\n",
              "      <td>0.99286</td>\n",
              "      <td>3.25</td>\n",
              "      <td>0.36</td>\n",
              "      <td>8.8</td>\n",
              "      <td>5</td>\n",
              "      <td>0</td>\n",
              "    </tr>\n",
              "    <tr>\n",
              "      <th>6486</th>\n",
              "      <td>7.8</td>\n",
              "      <td>0.550</td>\n",
              "      <td>0.35</td>\n",
              "      <td>2.20</td>\n",
              "      <td>0.074</td>\n",
              "      <td>21.0</td>\n",
              "      <td>66.0</td>\n",
              "      <td>0.99740</td>\n",
              "      <td>3.25</td>\n",
              "      <td>0.56</td>\n",
              "      <td>9.2</td>\n",
              "      <td>5</td>\n",
              "      <td>1</td>\n",
              "    </tr>\n",
              "    <tr>\n",
              "      <th>6487</th>\n",
              "      <td>8.5</td>\n",
              "      <td>0.170</td>\n",
              "      <td>0.31</td>\n",
              "      <td>1.00</td>\n",
              "      <td>0.024</td>\n",
              "      <td>13.0</td>\n",
              "      <td>91.0</td>\n",
              "      <td>0.99300</td>\n",
              "      <td>2.79</td>\n",
              "      <td>0.37</td>\n",
              "      <td>10.1</td>\n",
              "      <td>5</td>\n",
              "      <td>0</td>\n",
              "    </tr>\n",
              "    <tr>\n",
              "      <th>6488</th>\n",
              "      <td>8.6</td>\n",
              "      <td>0.490</td>\n",
              "      <td>0.29</td>\n",
              "      <td>2.00</td>\n",
              "      <td>0.110</td>\n",
              "      <td>19.0</td>\n",
              "      <td>133.0</td>\n",
              "      <td>0.99720</td>\n",
              "      <td>2.93</td>\n",
              "      <td>1.98</td>\n",
              "      <td>9.8</td>\n",
              "      <td>5</td>\n",
              "      <td>1</td>\n",
              "    </tr>\n",
              "    <tr>\n",
              "      <th>6489</th>\n",
              "      <td>6.3</td>\n",
              "      <td>0.290</td>\n",
              "      <td>0.14</td>\n",
              "      <td>7.05</td>\n",
              "      <td>0.045</td>\n",
              "      <td>50.0</td>\n",
              "      <td>177.0</td>\n",
              "      <td>0.99564</td>\n",
              "      <td>3.23</td>\n",
              "      <td>0.42</td>\n",
              "      <td>9.0</td>\n",
              "      <td>5</td>\n",
              "      <td>0</td>\n",
              "    </tr>\n",
              "    <tr>\n",
              "      <th>6490</th>\n",
              "      <td>6.8</td>\n",
              "      <td>0.230</td>\n",
              "      <td>0.29</td>\n",
              "      <td>12.20</td>\n",
              "      <td>0.035</td>\n",
              "      <td>38.0</td>\n",
              "      <td>236.0</td>\n",
              "      <td>0.99760</td>\n",
              "      <td>3.35</td>\n",
              "      <td>0.52</td>\n",
              "      <td>9.8</td>\n",
              "      <td>6</td>\n",
              "      <td>0</td>\n",
              "    </tr>\n",
              "    <tr>\n",
              "      <th>6491</th>\n",
              "      <td>6.8</td>\n",
              "      <td>0.250</td>\n",
              "      <td>0.29</td>\n",
              "      <td>2.00</td>\n",
              "      <td>0.042</td>\n",
              "      <td>19.0</td>\n",
              "      <td>189.0</td>\n",
              "      <td>0.99520</td>\n",
              "      <td>3.46</td>\n",
              "      <td>0.54</td>\n",
              "      <td>10.2</td>\n",
              "      <td>6</td>\n",
              "      <td>0</td>\n",
              "    </tr>\n",
              "    <tr>\n",
              "      <th>6492</th>\n",
              "      <td>7.2</td>\n",
              "      <td>0.190</td>\n",
              "      <td>0.31</td>\n",
              "      <td>6.30</td>\n",
              "      <td>0.034</td>\n",
              "      <td>17.0</td>\n",
              "      <td>103.0</td>\n",
              "      <td>0.99305</td>\n",
              "      <td>3.15</td>\n",
              "      <td>0.52</td>\n",
              "      <td>11.4</td>\n",
              "      <td>7</td>\n",
              "      <td>0</td>\n",
              "    </tr>\n",
              "    <tr>\n",
              "      <th>6493</th>\n",
              "      <td>5.8</td>\n",
              "      <td>0.280</td>\n",
              "      <td>0.34</td>\n",
              "      <td>4.00</td>\n",
              "      <td>0.031</td>\n",
              "      <td>40.0</td>\n",
              "      <td>99.0</td>\n",
              "      <td>0.98960</td>\n",
              "      <td>3.39</td>\n",
              "      <td>0.39</td>\n",
              "      <td>12.8</td>\n",
              "      <td>7</td>\n",
              "      <td>0</td>\n",
              "    </tr>\n",
              "    <tr>\n",
              "      <th>6494</th>\n",
              "      <td>10.6</td>\n",
              "      <td>0.500</td>\n",
              "      <td>0.45</td>\n",
              "      <td>2.60</td>\n",
              "      <td>0.119</td>\n",
              "      <td>34.0</td>\n",
              "      <td>68.0</td>\n",
              "      <td>0.99708</td>\n",
              "      <td>3.23</td>\n",
              "      <td>0.72</td>\n",
              "      <td>10.9</td>\n",
              "      <td>6</td>\n",
              "      <td>1</td>\n",
              "    </tr>\n",
              "    <tr>\n",
              "      <th>6495</th>\n",
              "      <td>4.9</td>\n",
              "      <td>0.345</td>\n",
              "      <td>0.34</td>\n",
              "      <td>1.00</td>\n",
              "      <td>0.068</td>\n",
              "      <td>32.0</td>\n",
              "      <td>143.0</td>\n",
              "      <td>0.99138</td>\n",
              "      <td>3.24</td>\n",
              "      <td>0.40</td>\n",
              "      <td>10.1</td>\n",
              "      <td>5</td>\n",
              "      <td>0</td>\n",
              "    </tr>\n",
              "    <tr>\n",
              "      <th>6496</th>\n",
              "      <td>7.7</td>\n",
              "      <td>0.260</td>\n",
              "      <td>0.51</td>\n",
              "      <td>2.60</td>\n",
              "      <td>0.045</td>\n",
              "      <td>26.0</td>\n",
              "      <td>159.0</td>\n",
              "      <td>0.99126</td>\n",
              "      <td>3.00</td>\n",
              "      <td>0.50</td>\n",
              "      <td>11.2</td>\n",
              "      <td>6</td>\n",
              "      <td>0</td>\n",
              "    </tr>\n",
              "  </tbody>\n",
              "</table>\n",
              "</div>"
            ],
            "text/plain": [
              "      fixed_acidity  volatile_acidity  citric_acid  ...  alcohol  quality  Wine_Type\n",
              "6477            6.9             0.320         0.15  ...      8.9        5          0\n",
              "6478            7.0             0.290         0.33  ...     11.4        5          0\n",
              "6479            7.1             0.180         0.74  ...      9.0        6          0\n",
              "6480            5.4             0.740         0.00  ...     12.5        6          1\n",
              "6481            6.1             0.380         0.14  ...      9.2        4          0\n",
              "6482            6.0             0.430         0.34  ...     11.0        6          0\n",
              "6483            6.7             0.300         0.50  ...      8.9        6          0\n",
              "6484            6.9             0.210         0.62  ...     10.2        6          0\n",
              "6485            5.9             0.540         0.00  ...      8.8        5          0\n",
              "6486            7.8             0.550         0.35  ...      9.2        5          1\n",
              "6487            8.5             0.170         0.31  ...     10.1        5          0\n",
              "6488            8.6             0.490         0.29  ...      9.8        5          1\n",
              "6489            6.3             0.290         0.14  ...      9.0        5          0\n",
              "6490            6.8             0.230         0.29  ...      9.8        6          0\n",
              "6491            6.8             0.250         0.29  ...     10.2        6          0\n",
              "6492            7.2             0.190         0.31  ...     11.4        7          0\n",
              "6493            5.8             0.280         0.34  ...     12.8        7          0\n",
              "6494           10.6             0.500         0.45  ...     10.9        6          1\n",
              "6495            4.9             0.345         0.34  ...     10.1        5          0\n",
              "6496            7.7             0.260         0.51  ...     11.2        6          0\n",
              "\n",
              "[20 rows x 13 columns]"
            ]
          },
          "metadata": {},
          "execution_count": 103
        }
      ]
    },
    {
      "cell_type": "code",
      "metadata": {
        "id": "yA-Bp_fDYF6e"
      },
      "source": [
        ""
      ],
      "execution_count": null,
      "outputs": []
    },
    {
      "cell_type": "code",
      "metadata": {
        "colab": {
          "base_uri": "https://localhost:8080/",
          "height": 689
        },
        "id": "TkCCtvclWb1O",
        "outputId": "c213c991-11f4-4e81-b08d-f885a0962120"
      },
      "source": [
        "#for manual testing purposes we will not need our target \"quality\" and also our \"wine type columns so those need to be dropped\"\n",
        "final_Manual_wine_test_df = Manual_wine_test_df.drop(['quality', 'Wine_Type'], axis = 1)\n",
        "final_Manual_wine_test_df"
      ],
      "execution_count": 104,
      "outputs": [
        {
          "output_type": "execute_result",
          "data": {
            "text/html": [
              "<div>\n",
              "<style scoped>\n",
              "    .dataframe tbody tr th:only-of-type {\n",
              "        vertical-align: middle;\n",
              "    }\n",
              "\n",
              "    .dataframe tbody tr th {\n",
              "        vertical-align: top;\n",
              "    }\n",
              "\n",
              "    .dataframe thead th {\n",
              "        text-align: right;\n",
              "    }\n",
              "</style>\n",
              "<table border=\"1\" class=\"dataframe\">\n",
              "  <thead>\n",
              "    <tr style=\"text-align: right;\">\n",
              "      <th></th>\n",
              "      <th>fixed_acidity</th>\n",
              "      <th>volatile_acidity</th>\n",
              "      <th>citric_acid</th>\n",
              "      <th>residual_sugar</th>\n",
              "      <th>chlorides</th>\n",
              "      <th>free_sulfur_dioxide</th>\n",
              "      <th>total_sulfur_dioxide</th>\n",
              "      <th>density</th>\n",
              "      <th>pH</th>\n",
              "      <th>sulphates</th>\n",
              "      <th>alcohol</th>\n",
              "    </tr>\n",
              "  </thead>\n",
              "  <tbody>\n",
              "    <tr>\n",
              "      <th>6477</th>\n",
              "      <td>6.9</td>\n",
              "      <td>0.320</td>\n",
              "      <td>0.15</td>\n",
              "      <td>8.10</td>\n",
              "      <td>0.046</td>\n",
              "      <td>51.0</td>\n",
              "      <td>180.0</td>\n",
              "      <td>0.99580</td>\n",
              "      <td>3.13</td>\n",
              "      <td>0.45</td>\n",
              "      <td>8.9</td>\n",
              "    </tr>\n",
              "    <tr>\n",
              "      <th>6478</th>\n",
              "      <td>7.0</td>\n",
              "      <td>0.290</td>\n",
              "      <td>0.33</td>\n",
              "      <td>0.90</td>\n",
              "      <td>0.041</td>\n",
              "      <td>20.0</td>\n",
              "      <td>117.0</td>\n",
              "      <td>0.99048</td>\n",
              "      <td>3.21</td>\n",
              "      <td>0.50</td>\n",
              "      <td>11.4</td>\n",
              "    </tr>\n",
              "    <tr>\n",
              "      <th>6479</th>\n",
              "      <td>7.1</td>\n",
              "      <td>0.180</td>\n",
              "      <td>0.74</td>\n",
              "      <td>15.60</td>\n",
              "      <td>0.044</td>\n",
              "      <td>44.0</td>\n",
              "      <td>176.0</td>\n",
              "      <td>0.99960</td>\n",
              "      <td>3.38</td>\n",
              "      <td>0.67</td>\n",
              "      <td>9.0</td>\n",
              "    </tr>\n",
              "    <tr>\n",
              "      <th>6480</th>\n",
              "      <td>5.4</td>\n",
              "      <td>0.740</td>\n",
              "      <td>0.00</td>\n",
              "      <td>1.20</td>\n",
              "      <td>0.041</td>\n",
              "      <td>16.0</td>\n",
              "      <td>46.0</td>\n",
              "      <td>0.99258</td>\n",
              "      <td>4.01</td>\n",
              "      <td>0.59</td>\n",
              "      <td>12.5</td>\n",
              "    </tr>\n",
              "    <tr>\n",
              "      <th>6481</th>\n",
              "      <td>6.1</td>\n",
              "      <td>0.380</td>\n",
              "      <td>0.14</td>\n",
              "      <td>3.90</td>\n",
              "      <td>0.060</td>\n",
              "      <td>27.0</td>\n",
              "      <td>113.0</td>\n",
              "      <td>0.99344</td>\n",
              "      <td>3.07</td>\n",
              "      <td>0.34</td>\n",
              "      <td>9.2</td>\n",
              "    </tr>\n",
              "    <tr>\n",
              "      <th>6482</th>\n",
              "      <td>6.0</td>\n",
              "      <td>0.430</td>\n",
              "      <td>0.34</td>\n",
              "      <td>7.60</td>\n",
              "      <td>0.045</td>\n",
              "      <td>25.0</td>\n",
              "      <td>118.0</td>\n",
              "      <td>0.99222</td>\n",
              "      <td>3.03</td>\n",
              "      <td>0.37</td>\n",
              "      <td>11.0</td>\n",
              "    </tr>\n",
              "    <tr>\n",
              "      <th>6483</th>\n",
              "      <td>6.7</td>\n",
              "      <td>0.300</td>\n",
              "      <td>0.50</td>\n",
              "      <td>12.10</td>\n",
              "      <td>0.045</td>\n",
              "      <td>38.0</td>\n",
              "      <td>127.0</td>\n",
              "      <td>0.99740</td>\n",
              "      <td>3.04</td>\n",
              "      <td>0.53</td>\n",
              "      <td>8.9</td>\n",
              "    </tr>\n",
              "    <tr>\n",
              "      <th>6484</th>\n",
              "      <td>6.9</td>\n",
              "      <td>0.210</td>\n",
              "      <td>0.62</td>\n",
              "      <td>6.30</td>\n",
              "      <td>0.042</td>\n",
              "      <td>7.0</td>\n",
              "      <td>109.0</td>\n",
              "      <td>0.99358</td>\n",
              "      <td>2.96</td>\n",
              "      <td>0.59</td>\n",
              "      <td>10.2</td>\n",
              "    </tr>\n",
              "    <tr>\n",
              "      <th>6485</th>\n",
              "      <td>5.9</td>\n",
              "      <td>0.540</td>\n",
              "      <td>0.00</td>\n",
              "      <td>0.80</td>\n",
              "      <td>0.032</td>\n",
              "      <td>12.0</td>\n",
              "      <td>82.0</td>\n",
              "      <td>0.99286</td>\n",
              "      <td>3.25</td>\n",
              "      <td>0.36</td>\n",
              "      <td>8.8</td>\n",
              "    </tr>\n",
              "    <tr>\n",
              "      <th>6486</th>\n",
              "      <td>7.8</td>\n",
              "      <td>0.550</td>\n",
              "      <td>0.35</td>\n",
              "      <td>2.20</td>\n",
              "      <td>0.074</td>\n",
              "      <td>21.0</td>\n",
              "      <td>66.0</td>\n",
              "      <td>0.99740</td>\n",
              "      <td>3.25</td>\n",
              "      <td>0.56</td>\n",
              "      <td>9.2</td>\n",
              "    </tr>\n",
              "    <tr>\n",
              "      <th>6487</th>\n",
              "      <td>8.5</td>\n",
              "      <td>0.170</td>\n",
              "      <td>0.31</td>\n",
              "      <td>1.00</td>\n",
              "      <td>0.024</td>\n",
              "      <td>13.0</td>\n",
              "      <td>91.0</td>\n",
              "      <td>0.99300</td>\n",
              "      <td>2.79</td>\n",
              "      <td>0.37</td>\n",
              "      <td>10.1</td>\n",
              "    </tr>\n",
              "    <tr>\n",
              "      <th>6488</th>\n",
              "      <td>8.6</td>\n",
              "      <td>0.490</td>\n",
              "      <td>0.29</td>\n",
              "      <td>2.00</td>\n",
              "      <td>0.110</td>\n",
              "      <td>19.0</td>\n",
              "      <td>133.0</td>\n",
              "      <td>0.99720</td>\n",
              "      <td>2.93</td>\n",
              "      <td>1.98</td>\n",
              "      <td>9.8</td>\n",
              "    </tr>\n",
              "    <tr>\n",
              "      <th>6489</th>\n",
              "      <td>6.3</td>\n",
              "      <td>0.290</td>\n",
              "      <td>0.14</td>\n",
              "      <td>7.05</td>\n",
              "      <td>0.045</td>\n",
              "      <td>50.0</td>\n",
              "      <td>177.0</td>\n",
              "      <td>0.99564</td>\n",
              "      <td>3.23</td>\n",
              "      <td>0.42</td>\n",
              "      <td>9.0</td>\n",
              "    </tr>\n",
              "    <tr>\n",
              "      <th>6490</th>\n",
              "      <td>6.8</td>\n",
              "      <td>0.230</td>\n",
              "      <td>0.29</td>\n",
              "      <td>12.20</td>\n",
              "      <td>0.035</td>\n",
              "      <td>38.0</td>\n",
              "      <td>236.0</td>\n",
              "      <td>0.99760</td>\n",
              "      <td>3.35</td>\n",
              "      <td>0.52</td>\n",
              "      <td>9.8</td>\n",
              "    </tr>\n",
              "    <tr>\n",
              "      <th>6491</th>\n",
              "      <td>6.8</td>\n",
              "      <td>0.250</td>\n",
              "      <td>0.29</td>\n",
              "      <td>2.00</td>\n",
              "      <td>0.042</td>\n",
              "      <td>19.0</td>\n",
              "      <td>189.0</td>\n",
              "      <td>0.99520</td>\n",
              "      <td>3.46</td>\n",
              "      <td>0.54</td>\n",
              "      <td>10.2</td>\n",
              "    </tr>\n",
              "    <tr>\n",
              "      <th>6492</th>\n",
              "      <td>7.2</td>\n",
              "      <td>0.190</td>\n",
              "      <td>0.31</td>\n",
              "      <td>6.30</td>\n",
              "      <td>0.034</td>\n",
              "      <td>17.0</td>\n",
              "      <td>103.0</td>\n",
              "      <td>0.99305</td>\n",
              "      <td>3.15</td>\n",
              "      <td>0.52</td>\n",
              "      <td>11.4</td>\n",
              "    </tr>\n",
              "    <tr>\n",
              "      <th>6493</th>\n",
              "      <td>5.8</td>\n",
              "      <td>0.280</td>\n",
              "      <td>0.34</td>\n",
              "      <td>4.00</td>\n",
              "      <td>0.031</td>\n",
              "      <td>40.0</td>\n",
              "      <td>99.0</td>\n",
              "      <td>0.98960</td>\n",
              "      <td>3.39</td>\n",
              "      <td>0.39</td>\n",
              "      <td>12.8</td>\n",
              "    </tr>\n",
              "    <tr>\n",
              "      <th>6494</th>\n",
              "      <td>10.6</td>\n",
              "      <td>0.500</td>\n",
              "      <td>0.45</td>\n",
              "      <td>2.60</td>\n",
              "      <td>0.119</td>\n",
              "      <td>34.0</td>\n",
              "      <td>68.0</td>\n",
              "      <td>0.99708</td>\n",
              "      <td>3.23</td>\n",
              "      <td>0.72</td>\n",
              "      <td>10.9</td>\n",
              "    </tr>\n",
              "    <tr>\n",
              "      <th>6495</th>\n",
              "      <td>4.9</td>\n",
              "      <td>0.345</td>\n",
              "      <td>0.34</td>\n",
              "      <td>1.00</td>\n",
              "      <td>0.068</td>\n",
              "      <td>32.0</td>\n",
              "      <td>143.0</td>\n",
              "      <td>0.99138</td>\n",
              "      <td>3.24</td>\n",
              "      <td>0.40</td>\n",
              "      <td>10.1</td>\n",
              "    </tr>\n",
              "    <tr>\n",
              "      <th>6496</th>\n",
              "      <td>7.7</td>\n",
              "      <td>0.260</td>\n",
              "      <td>0.51</td>\n",
              "      <td>2.60</td>\n",
              "      <td>0.045</td>\n",
              "      <td>26.0</td>\n",
              "      <td>159.0</td>\n",
              "      <td>0.99126</td>\n",
              "      <td>3.00</td>\n",
              "      <td>0.50</td>\n",
              "      <td>11.2</td>\n",
              "    </tr>\n",
              "  </tbody>\n",
              "</table>\n",
              "</div>"
            ],
            "text/plain": [
              "      fixed_acidity  volatile_acidity  citric_acid  ...    pH  sulphates  alcohol\n",
              "6477            6.9             0.320         0.15  ...  3.13       0.45      8.9\n",
              "6478            7.0             0.290         0.33  ...  3.21       0.50     11.4\n",
              "6479            7.1             0.180         0.74  ...  3.38       0.67      9.0\n",
              "6480            5.4             0.740         0.00  ...  4.01       0.59     12.5\n",
              "6481            6.1             0.380         0.14  ...  3.07       0.34      9.2\n",
              "6482            6.0             0.430         0.34  ...  3.03       0.37     11.0\n",
              "6483            6.7             0.300         0.50  ...  3.04       0.53      8.9\n",
              "6484            6.9             0.210         0.62  ...  2.96       0.59     10.2\n",
              "6485            5.9             0.540         0.00  ...  3.25       0.36      8.8\n",
              "6486            7.8             0.550         0.35  ...  3.25       0.56      9.2\n",
              "6487            8.5             0.170         0.31  ...  2.79       0.37     10.1\n",
              "6488            8.6             0.490         0.29  ...  2.93       1.98      9.8\n",
              "6489            6.3             0.290         0.14  ...  3.23       0.42      9.0\n",
              "6490            6.8             0.230         0.29  ...  3.35       0.52      9.8\n",
              "6491            6.8             0.250         0.29  ...  3.46       0.54     10.2\n",
              "6492            7.2             0.190         0.31  ...  3.15       0.52     11.4\n",
              "6493            5.8             0.280         0.34  ...  3.39       0.39     12.8\n",
              "6494           10.6             0.500         0.45  ...  3.23       0.72     10.9\n",
              "6495            4.9             0.345         0.34  ...  3.24       0.40     10.1\n",
              "6496            7.7             0.260         0.51  ...  3.00       0.50     11.2\n",
              "\n",
              "[20 rows x 11 columns]"
            ]
          },
          "metadata": {},
          "execution_count": 104
        }
      ]
    },
    {
      "cell_type": "markdown",
      "metadata": {
        "id": "aCzLFzxlRXpN"
      },
      "source": [
        "### Visualizing and exploration of the data\n",
        "Visualizing the data helps us to understand how each feature affects the target in this case the wine quality"
      ]
    },
    {
      "cell_type": "code",
      "metadata": {
        "colab": {
          "base_uri": "https://localhost:8080/",
          "height": 295
        },
        "id": "qN9ZOqyMRcoR",
        "outputId": "7e05df18-bd43-45ad-93dd-53e86eb9701f"
      },
      "source": [
        "# WIne Quality Vs fixed acidity\n",
        "plt.bar(pd_Wine_df['quality'],pd_Wine_df['fixed_acidity'] , alpha =0.5, align=\"center\")\n",
        "plt.title(\"Wine Quality Vs fixed acidity\")\n",
        "plt.xlabel(\"Wine Quality\")\n",
        "plt.ylabel(\"Fixed Acidity\")\n",
        "\n",
        "plt.show()"
      ],
      "execution_count": 105,
      "outputs": [
        {
          "output_type": "display_data",
          "data": {
            "image/png": "[encoded data removed]",
            "text/plain": [
              "<Figure size 432x288 with 1 Axes>"
            ]
          },
          "metadata": {
            "needs_background": "light"
          }
        }
      ]
    },
    {
      "cell_type": "code",
      "metadata": {
        "colab": {
          "base_uri": "https://localhost:8080/",
          "height": 295
        },
        "id": "mdpPS9TCWelf",
        "outputId": "2ef42b62-44b5-4b18-a1ba-882cb01e2beb"
      },
      "source": [
        "# Wine Quality Vs Volatile Acidity\n",
        "plt.bar(pd_Wine_df['quality'], pd_Wine_df['volatile_acidity'] , alpha =0.5, align=\"center\")\n",
        "plt.title(\"Wine Quality Vs Volatile Acidity\")\n",
        "plt.xlabel(\"Wine Quality\")\n",
        "plt.ylabel(\"Volatile Acidity\")\n",
        "\n",
        "plt.show()"
      ],
      "execution_count": 106,
      "outputs": [
        {
          "output_type": "display_data",
          "data": {
            "image/png": "[encoded data removed]",
            "text/plain": [
              "<Figure size 432x288 with 1 Axes>"
            ]
          },
          "metadata": {
            "needs_background": "light"
          }
        }
      ]
    },
    {
      "cell_type": "code",
      "metadata": {
        "colab": {
          "base_uri": "https://localhost:8080/",
          "height": 295
        },
        "id": "tAGDaJ6tYqdo",
        "outputId": "7118082b-d3b5-494a-8117-102539be0cb5"
      },
      "source": [
        "# Wine Quality Vs Citric Acid\n",
        "plt.bar(pd_Wine_df['quality'], pd_Wine_df['citric_acid'] , alpha =0.5, align=\"center\")\n",
        "plt.title(\"Wine Quality Vs Citric Acid\")\n",
        "plt.xlabel(\"Wine Quality\")\n",
        "plt.ylabel(\"Citric Acid\")\n",
        "\n",
        "plt.show()"
      ],
      "execution_count": 107,
      "outputs": [
        {
          "output_type": "display_data",
          "data": {
            "image/png": "[encoded data removed]",
            "text/plain": [
              "<Figure size 432x288 with 1 Axes>"
            ]
          },
          "metadata": {
            "needs_background": "light"
          }
        }
      ]
    },
    {
      "cell_type": "code",
      "metadata": {
        "colab": {
          "base_uri": "https://localhost:8080/",
          "height": 295
        },
        "id": "tP-lA9wVbzL9",
        "outputId": "e651273a-52ec-4125-f5e5-6f91f5365f23"
      },
      "source": [
        "# Wine Quality Vs residual_sugar\n",
        "plt.bar(pd_Wine_df['quality'], pd_Wine_df['residual_sugar'] , alpha =0.5, align=\"center\")\n",
        "plt.title(\"Wine Quality Vs Residual Sugar\")\n",
        "plt.xlabel(\"Wine Quality\")\n",
        "plt.ylabel(\"Residual Sugar\")\n",
        "\n",
        "plt.show()"
      ],
      "execution_count": 108,
      "outputs": [
        {
          "output_type": "display_data",
          "data": {
            "image/png": "[encoded data removed]",
            "text/plain": [
              "<Figure size 432x288 with 1 Axes>"
            ]
          },
          "metadata": {
            "needs_background": "light"
          }
        }
      ]
    },
    {
      "cell_type": "code",
      "metadata": {
        "id": "v148u-VYlmht"
      },
      "source": [
        "# Dropping Wine Quality which is our target to create the X data and also dropping the wine type so as not to skew the dataset and results.\n",
        "\n",
        "X = pd_Wine_df.drop(['quality', 'Wine_Type'], axis = 1)"
      ],
      "execution_count": 109,
      "outputs": []
    },
    {
      "cell_type": "code",
      "metadata": {
        "id": "NR74sKTTmVw7"
      },
      "source": [
        "#setting quality is our target and doing a binarization of the dataset \n",
        "y = pd_Wine_df[\"quality\"].apply(lambda y_value: 1 if y_value>=7 else 0)"
      ],
      "execution_count": 110,
      "outputs": []
    },
    {
      "cell_type": "code",
      "metadata": {
        "id": "jB4T080e5HFL"
      },
      "source": [
        "#splitting the dataset into training and test data\n",
        "X_train, X_test, y_train, y_test = train_test_split(X,y, test_size = 0.20, random_state=2)"
      ],
      "execution_count": 111,
      "outputs": []
    },
    {
      "cell_type": "code",
      "metadata": {
        "id": "bAMlu8trKO2f"
      },
      "source": [
        "scaler = StandardScaler().fit(X_train)\n",
        "X_train_scaled = scaler.transform(X_train)\n",
        "X_test_scaled = scaler.transform(X_test)"
      ],
      "execution_count": 112,
      "outputs": []
    },
    {
      "cell_type": "code",
      "metadata": {
        "colab": {
          "base_uri": "https://localhost:8080/"
        },
        "id": "wn3XEK7f56UO",
        "outputId": "d85b5b85-70bc-46fd-ec9f-cce5ff23a04e"
      },
      "source": [
        "# initialize logistic regression model\n",
        "lr = LogisticRegression()\n",
        "lr"
      ],
      "execution_count": 113,
      "outputs": [
        {
          "output_type": "execute_result",
          "data": {
            "text/plain": [
              "LogisticRegression()"
            ]
          },
          "metadata": {},
          "execution_count": 113
        }
      ]
    },
    {
      "cell_type": "code",
      "metadata": {
        "colab": {
          "base_uri": "https://localhost:8080/"
        },
        "id": "OI4lB7d77tjZ",
        "outputId": "e2522d1f-186b-463b-aebf-1c913549a275"
      },
      "source": [
        "#fitting the model\n",
        "lr.fit(X_train_scaled, y_train)\n",
        "y_pred = lr.predict(X_test_scaled)\n",
        "confusion_matrix(y_test,y_pred)"
      ],
      "execution_count": 114,
      "outputs": [
        {
          "output_type": "execute_result",
          "data": {
            "text/plain": [
              "array([[987,  53],\n",
              "       [190,  66]])"
            ]
          },
          "metadata": {},
          "execution_count": 114
        }
      ]
    },
    {
      "cell_type": "code",
      "metadata": {
        "colab": {
          "base_uri": "https://localhost:8080/"
        },
        "id": "DIrH0wW4MjLy",
        "outputId": "b1326080-bb2a-4726-9aff-fd98390374ed"
      },
      "source": [
        "print(classification_report(y_test,y_pred))"
      ],
      "execution_count": 115,
      "outputs": [
        {
          "output_type": "stream",
          "name": "stdout",
          "text": [
            "              precision    recall  f1-score   support\n",
            "\n",
            "           0       0.84      0.95      0.89      1040\n",
            "           1       0.55      0.26      0.35       256\n",
            "\n",
            "    accuracy                           0.81      1296\n",
            "   macro avg       0.70      0.60      0.62      1296\n",
            "weighted avg       0.78      0.81      0.78      1296\n",
            "\n"
          ]
        }
      ]
    },
    {
      "cell_type": "code",
      "metadata": {
        "colab": {
          "base_uri": "https://localhost:8080/"
        },
        "id": "GsQvKCey81Xs",
        "outputId": "48ec641e-6bb1-4df7-e2c6-b274e8e54dea"
      },
      "source": [
        "#Evaluating the model\n",
        "print(f'Training Score: {lr.score(X_train_scaled, y_train)}')\n",
        "print(f'Testing Score: {lr.score(X_test_scaled, y_test)}')"
      ],
      "execution_count": 116,
      "outputs": [
        {
          "output_type": "stream",
          "name": "stdout",
          "text": [
            "Training Score: 0.818567844045551\n",
            "Testing Score: 0.8125\n"
          ]
        }
      ]
    },
    {
      "cell_type": "code",
      "metadata": {
        "id": "ZwapbUiUXEqg"
      },
      "source": [
        ""
      ],
      "execution_count": null,
      "outputs": []
    },
    {
      "cell_type": "markdown",
      "metadata": {
        "id": "eT_KUiYqWK7U"
      },
      "source": [
        "### Time to Try the Random Forest Classifier "
      ]
    },
    {
      "cell_type": "code",
      "metadata": {
        "id": "H8iE01UHX2bi"
      },
      "source": [
        "#Initialize Random Forest Classifier Model\n",
        "rc = RandomForestClassifier()"
      ],
      "execution_count": 119,
      "outputs": []
    },
    {
      "cell_type": "code",
      "metadata": {
        "colab": {
          "base_uri": "https://localhost:8080/"
        },
        "id": "ykAztl-oYRWd",
        "outputId": "dafcc3e6-e010-40be-ea71-9841143ea38c"
      },
      "source": [
        "#fitting the Random Forest Classifier Model\n",
        "rc.fit(X_train_scaled, y_train)\n"
      ],
      "execution_count": 120,
      "outputs": [
        {
          "output_type": "execute_result",
          "data": {
            "text/plain": [
              "RandomForestClassifier()"
            ]
          },
          "metadata": {},
          "execution_count": 120
        }
      ]
    },
    {
      "cell_type": "markdown",
      "metadata": {
        "id": "Dwjc9Oz3VoKg"
      },
      "source": [
        "Random Forest Classifier Accuracy Evaluation"
      ]
    },
    {
      "cell_type": "code",
      "metadata": {
        "colab": {
          "base_uri": "https://localhost:8080/"
        },
        "id": "FH0CGghkVzcO",
        "outputId": "45d08b5e-e702-4ec4-fd0d-0b38b6a28aa3"
      },
      "source": [
        "y_pred2 = rc.predict(X_test_scaled)\n",
        "confusion_matrix(y_test,y_pred2)"
      ],
      "execution_count": 121,
      "outputs": [
        {
          "output_type": "execute_result",
          "data": {
            "text/plain": [
              "array([[996,  44],\n",
              "       [116, 140]])"
            ]
          },
          "metadata": {},
          "execution_count": 121
        }
      ]
    },
    {
      "cell_type": "code",
      "metadata": {
        "colab": {
          "base_uri": "https://localhost:8080/"
        },
        "id": "vjoU9WRaXHFF",
        "outputId": "3de97f81-f877-4a4b-ee5a-bddf22b9ffcf"
      },
      "source": [
        "print(f'Training Score: {rc.score(X_train_scaled, y_train)}')\n",
        "print(f'Testing Score: {rc.score(X_test_scaled, y_test)}')"
      ],
      "execution_count": 122,
      "outputs": [
        {
          "output_type": "stream",
          "name": "stdout",
          "text": [
            "Training Score: 1.0\n",
            "Testing Score: 0.8765432098765432\n"
          ]
        }
      ]
    },
    {
      "cell_type": "markdown",
      "metadata": {
        "id": "ljyAsECtN6_P"
      },
      "source": [
        "Trying Support Vector Machine.\n",
        "\n"
      ]
    },
    {
      "cell_type": "code",
      "metadata": {
        "colab": {
          "base_uri": "https://localhost:8080/"
        },
        "id": "Bs1FmK8IOKRr",
        "outputId": "36fd306b-7adc-448d-8a67-fbdccbd39cc7"
      },
      "source": [
        "from sklearn.svm import SVC \n",
        "sv = SVC(kernel='linear')\n",
        "sv.fit(X_train_scaled, y_train)\n",
        "y_pred3 = sv.predict(X_test_scaled)\n",
        "confusion_matrix(y_test,y_pred3)"
      ],
      "execution_count": 123,
      "outputs": [
        {
          "output_type": "execute_result",
          "data": {
            "text/plain": [
              "array([[1040,    0],\n",
              "       [ 256,    0]])"
            ]
          },
          "metadata": {},
          "execution_count": 123
        }
      ]
    },
    {
      "cell_type": "code",
      "metadata": {
        "colab": {
          "base_uri": "https://localhost:8080/"
        },
        "id": "DAmq5RF_O1pA",
        "outputId": "eda3febb-2b41-4af3-f625-d379b0396506"
      },
      "source": [
        "print(f'Training Score: {sv.score(X_train_scaled, y_train)}')\n",
        "print(f'Testing Score: {sv.score(X_test_scaled, y_test)}')"
      ],
      "execution_count": 124,
      "outputs": [
        {
          "output_type": "stream",
          "name": "stdout",
          "text": [
            "Training Score: 0.8033198224281027\n",
            "Testing Score: 0.8024691358024691\n"
          ]
        }
      ]
    },
    {
      "cell_type": "markdown",
      "metadata": {
        "id": "1cSqqiZ64lwg"
      },
      "source": [
        "###Manual Testing\n"
      ]
    },
    {
      "cell_type": "code",
      "metadata": {
        "colab": {
          "base_uri": "https://localhost:8080/",
          "height": 689
        },
        "id": "F5ob9bDwE1Rv",
        "outputId": "b1e8bf65-aacc-4c91-dc5d-e553ae8ebc38"
      },
      "source": [
        "Manual_wine_test_df"
      ],
      "execution_count": 128,
      "outputs": [
        {
          "output_type": "execute_result",
          "data": {
            "text/html": [
              "<div>\n",
              "<style scoped>\n",
              "    .dataframe tbody tr th:only-of-type {\n",
              "        vertical-align: middle;\n",
              "    }\n",
              "\n",
              "    .dataframe tbody tr th {\n",
              "        vertical-align: top;\n",
              "    }\n",
              "\n",
              "    .dataframe thead th {\n",
              "        text-align: right;\n",
              "    }\n",
              "</style>\n",
              "<table border=\"1\" class=\"dataframe\">\n",
              "  <thead>\n",
              "    <tr style=\"text-align: right;\">\n",
              "      <th></th>\n",
              "      <th>fixed_acidity</th>\n",
              "      <th>volatile_acidity</th>\n",
              "      <th>citric_acid</th>\n",
              "      <th>residual_sugar</th>\n",
              "      <th>chlorides</th>\n",
              "      <th>free_sulfur_dioxide</th>\n",
              "      <th>total_sulfur_dioxide</th>\n",
              "      <th>density</th>\n",
              "      <th>pH</th>\n",
              "      <th>sulphates</th>\n",
              "      <th>alcohol</th>\n",
              "      <th>quality</th>\n",
              "      <th>Wine_Type</th>\n",
              "    </tr>\n",
              "  </thead>\n",
              "  <tbody>\n",
              "    <tr>\n",
              "      <th>6477</th>\n",
              "      <td>6.9</td>\n",
              "      <td>0.320</td>\n",
              "      <td>0.15</td>\n",
              "      <td>8.10</td>\n",
              "      <td>0.046</td>\n",
              "      <td>51.0</td>\n",
              "      <td>180.0</td>\n",
              "      <td>0.99580</td>\n",
              "      <td>3.13</td>\n",
              "      <td>0.45</td>\n",
              "      <td>8.9</td>\n",
              "      <td>5</td>\n",
              "      <td>0</td>\n",
              "    </tr>\n",
              "    <tr>\n",
              "      <th>6478</th>\n",
              "      <td>7.0</td>\n",
              "      <td>0.290</td>\n",
              "      <td>0.33</td>\n",
              "      <td>0.90</td>\n",
              "      <td>0.041</td>\n",
              "      <td>20.0</td>\n",
              "      <td>117.0</td>\n",
              "      <td>0.99048</td>\n",
              "      <td>3.21</td>\n",
              "      <td>0.50</td>\n",
              "      <td>11.4</td>\n",
              "      <td>5</td>\n",
              "      <td>0</td>\n",
              "    </tr>\n",
              "    <tr>\n",
              "      <th>6479</th>\n",
              "      <td>7.1</td>\n",
              "      <td>0.180</td>\n",
              "      <td>0.74</td>\n",
              "      <td>15.60</td>\n",
              "      <td>0.044</td>\n",
              "      <td>44.0</td>\n",
              "      <td>176.0</td>\n",
              "      <td>0.99960</td>\n",
              "      <td>3.38</td>\n",
              "      <td>0.67</td>\n",
              "      <td>9.0</td>\n",
              "      <td>6</td>\n",
              "      <td>0</td>\n",
              "    </tr>\n",
              "    <tr>\n",
              "      <th>6480</th>\n",
              "      <td>5.4</td>\n",
              "      <td>0.740</td>\n",
              "      <td>0.00</td>\n",
              "      <td>1.20</td>\n",
              "      <td>0.041</td>\n",
              "      <td>16.0</td>\n",
              "      <td>46.0</td>\n",
              "      <td>0.99258</td>\n",
              "      <td>4.01</td>\n",
              "      <td>0.59</td>\n",
              "      <td>12.5</td>\n",
              "      <td>6</td>\n",
              "      <td>1</td>\n",
              "    </tr>\n",
              "    <tr>\n",
              "      <th>6481</th>\n",
              "      <td>6.1</td>\n",
              "      <td>0.380</td>\n",
              "      <td>0.14</td>\n",
              "      <td>3.90</td>\n",
              "      <td>0.060</td>\n",
              "      <td>27.0</td>\n",
              "      <td>113.0</td>\n",
              "      <td>0.99344</td>\n",
              "      <td>3.07</td>\n",
              "      <td>0.34</td>\n",
              "      <td>9.2</td>\n",
              "      <td>4</td>\n",
              "      <td>0</td>\n",
              "    </tr>\n",
              "    <tr>\n",
              "      <th>6482</th>\n",
              "      <td>6.0</td>\n",
              "      <td>0.430</td>\n",
              "      <td>0.34</td>\n",
              "      <td>7.60</td>\n",
              "      <td>0.045</td>\n",
              "      <td>25.0</td>\n",
              "      <td>118.0</td>\n",
              "      <td>0.99222</td>\n",
              "      <td>3.03</td>\n",
              "      <td>0.37</td>\n",
              "      <td>11.0</td>\n",
              "      <td>6</td>\n",
              "      <td>0</td>\n",
              "    </tr>\n",
              "    <tr>\n",
              "      <th>6483</th>\n",
              "      <td>6.7</td>\n",
              "      <td>0.300</td>\n",
              "      <td>0.50</td>\n",
              "      <td>12.10</td>\n",
              "      <td>0.045</td>\n",
              "      <td>38.0</td>\n",
              "      <td>127.0</td>\n",
              "      <td>0.99740</td>\n",
              "      <td>3.04</td>\n",
              "      <td>0.53</td>\n",
              "      <td>8.9</td>\n",
              "      <td>6</td>\n",
              "      <td>0</td>\n",
              "    </tr>\n",
              "    <tr>\n",
              "      <th>6484</th>\n",
              "      <td>6.9</td>\n",
              "      <td>0.210</td>\n",
              "      <td>0.62</td>\n",
              "      <td>6.30</td>\n",
              "      <td>0.042</td>\n",
              "      <td>7.0</td>\n",
              "      <td>109.0</td>\n",
              "      <td>0.99358</td>\n",
              "      <td>2.96</td>\n",
              "      <td>0.59</td>\n",
              "      <td>10.2</td>\n",
              "      <td>6</td>\n",
              "      <td>0</td>\n",
              "    </tr>\n",
              "    <tr>\n",
              "      <th>6485</th>\n",
              "      <td>5.9</td>\n",
              "      <td>0.540</td>\n",
              "      <td>0.00</td>\n",
              "      <td>0.80</td>\n",
              "      <td>0.032</td>\n",
              "      <td>12.0</td>\n",
              "      <td>82.0</td>\n",
              "      <td>0.99286</td>\n",
              "      <td>3.25</td>\n",
              "      <td>0.36</td>\n",
              "      <td>8.8</td>\n",
              "      <td>5</td>\n",
              "      <td>0</td>\n",
              "    </tr>\n",
              "    <tr>\n",
              "      <th>6486</th>\n",
              "      <td>7.8</td>\n",
              "      <td>0.550</td>\n",
              "      <td>0.35</td>\n",
              "      <td>2.20</td>\n",
              "      <td>0.074</td>\n",
              "      <td>21.0</td>\n",
              "      <td>66.0</td>\n",
              "      <td>0.99740</td>\n",
              "      <td>3.25</td>\n",
              "      <td>0.56</td>\n",
              "      <td>9.2</td>\n",
              "      <td>5</td>\n",
              "      <td>1</td>\n",
              "    </tr>\n",
              "    <tr>\n",
              "      <th>6487</th>\n",
              "      <td>8.5</td>\n",
              "      <td>0.170</td>\n",
              "      <td>0.31</td>\n",
              "      <td>1.00</td>\n",
              "      <td>0.024</td>\n",
              "      <td>13.0</td>\n",
              "      <td>91.0</td>\n",
              "      <td>0.99300</td>\n",
              "      <td>2.79</td>\n",
              "      <td>0.37</td>\n",
              "      <td>10.1</td>\n",
              "      <td>5</td>\n",
              "      <td>0</td>\n",
              "    </tr>\n",
              "    <tr>\n",
              "      <th>6488</th>\n",
              "      <td>8.6</td>\n",
              "      <td>0.490</td>\n",
              "      <td>0.29</td>\n",
              "      <td>2.00</td>\n",
              "      <td>0.110</td>\n",
              "      <td>19.0</td>\n",
              "      <td>133.0</td>\n",
              "      <td>0.99720</td>\n",
              "      <td>2.93</td>\n",
              "      <td>1.98</td>\n",
              "      <td>9.8</td>\n",
              "      <td>5</td>\n",
              "      <td>1</td>\n",
              "    </tr>\n",
              "    <tr>\n",
              "      <th>6489</th>\n",
              "      <td>6.3</td>\n",
              "      <td>0.290</td>\n",
              "      <td>0.14</td>\n",
              "      <td>7.05</td>\n",
              "      <td>0.045</td>\n",
              "      <td>50.0</td>\n",
              "      <td>177.0</td>\n",
              "      <td>0.99564</td>\n",
              "      <td>3.23</td>\n",
              "      <td>0.42</td>\n",
              "      <td>9.0</td>\n",
              "      <td>5</td>\n",
              "      <td>0</td>\n",
              "    </tr>\n",
              "    <tr>\n",
              "      <th>6490</th>\n",
              "      <td>6.8</td>\n",
              "      <td>0.230</td>\n",
              "      <td>0.29</td>\n",
              "      <td>12.20</td>\n",
              "      <td>0.035</td>\n",
              "      <td>38.0</td>\n",
              "      <td>236.0</td>\n",
              "      <td>0.99760</td>\n",
              "      <td>3.35</td>\n",
              "      <td>0.52</td>\n",
              "      <td>9.8</td>\n",
              "      <td>6</td>\n",
              "      <td>0</td>\n",
              "    </tr>\n",
              "    <tr>\n",
              "      <th>6491</th>\n",
              "      <td>6.8</td>\n",
              "      <td>0.250</td>\n",
              "      <td>0.29</td>\n",
              "      <td>2.00</td>\n",
              "      <td>0.042</td>\n",
              "      <td>19.0</td>\n",
              "      <td>189.0</td>\n",
              "      <td>0.99520</td>\n",
              "      <td>3.46</td>\n",
              "      <td>0.54</td>\n",
              "      <td>10.2</td>\n",
              "      <td>6</td>\n",
              "      <td>0</td>\n",
              "    </tr>\n",
              "    <tr>\n",
              "      <th>6492</th>\n",
              "      <td>7.2</td>\n",
              "      <td>0.190</td>\n",
              "      <td>0.31</td>\n",
              "      <td>6.30</td>\n",
              "      <td>0.034</td>\n",
              "      <td>17.0</td>\n",
              "      <td>103.0</td>\n",
              "      <td>0.99305</td>\n",
              "      <td>3.15</td>\n",
              "      <td>0.52</td>\n",
              "      <td>11.4</td>\n",
              "      <td>7</td>\n",
              "      <td>0</td>\n",
              "    </tr>\n",
              "    <tr>\n",
              "      <th>6493</th>\n",
              "      <td>5.8</td>\n",
              "      <td>0.280</td>\n",
              "      <td>0.34</td>\n",
              "      <td>4.00</td>\n",
              "      <td>0.031</td>\n",
              "      <td>40.0</td>\n",
              "      <td>99.0</td>\n",
              "      <td>0.98960</td>\n",
              "      <td>3.39</td>\n",
              "      <td>0.39</td>\n",
              "      <td>12.8</td>\n",
              "      <td>7</td>\n",
              "      <td>0</td>\n",
              "    </tr>\n",
              "    <tr>\n",
              "      <th>6494</th>\n",
              "      <td>10.6</td>\n",
              "      <td>0.500</td>\n",
              "      <td>0.45</td>\n",
              "      <td>2.60</td>\n",
              "      <td>0.119</td>\n",
              "      <td>34.0</td>\n",
              "      <td>68.0</td>\n",
              "      <td>0.99708</td>\n",
              "      <td>3.23</td>\n",
              "      <td>0.72</td>\n",
              "      <td>10.9</td>\n",
              "      <td>6</td>\n",
              "      <td>1</td>\n",
              "    </tr>\n",
              "    <tr>\n",
              "      <th>6495</th>\n",
              "      <td>4.9</td>\n",
              "      <td>0.345</td>\n",
              "      <td>0.34</td>\n",
              "      <td>1.00</td>\n",
              "      <td>0.068</td>\n",
              "      <td>32.0</td>\n",
              "      <td>143.0</td>\n",
              "      <td>0.99138</td>\n",
              "      <td>3.24</td>\n",
              "      <td>0.40</td>\n",
              "      <td>10.1</td>\n",
              "      <td>5</td>\n",
              "      <td>0</td>\n",
              "    </tr>\n",
              "    <tr>\n",
              "      <th>6496</th>\n",
              "      <td>7.7</td>\n",
              "      <td>0.260</td>\n",
              "      <td>0.51</td>\n",
              "      <td>2.60</td>\n",
              "      <td>0.045</td>\n",
              "      <td>26.0</td>\n",
              "      <td>159.0</td>\n",
              "      <td>0.99126</td>\n",
              "      <td>3.00</td>\n",
              "      <td>0.50</td>\n",
              "      <td>11.2</td>\n",
              "      <td>6</td>\n",
              "      <td>0</td>\n",
              "    </tr>\n",
              "  </tbody>\n",
              "</table>\n",
              "</div>"
            ],
            "text/plain": [
              "      fixed_acidity  volatile_acidity  citric_acid  ...  alcohol  quality  Wine_Type\n",
              "6477            6.9             0.320         0.15  ...      8.9        5          0\n",
              "6478            7.0             0.290         0.33  ...     11.4        5          0\n",
              "6479            7.1             0.180         0.74  ...      9.0        6          0\n",
              "6480            5.4             0.740         0.00  ...     12.5        6          1\n",
              "6481            6.1             0.380         0.14  ...      9.2        4          0\n",
              "6482            6.0             0.430         0.34  ...     11.0        6          0\n",
              "6483            6.7             0.300         0.50  ...      8.9        6          0\n",
              "6484            6.9             0.210         0.62  ...     10.2        6          0\n",
              "6485            5.9             0.540         0.00  ...      8.8        5          0\n",
              "6486            7.8             0.550         0.35  ...      9.2        5          1\n",
              "6487            8.5             0.170         0.31  ...     10.1        5          0\n",
              "6488            8.6             0.490         0.29  ...      9.8        5          1\n",
              "6489            6.3             0.290         0.14  ...      9.0        5          0\n",
              "6490            6.8             0.230         0.29  ...      9.8        6          0\n",
              "6491            6.8             0.250         0.29  ...     10.2        6          0\n",
              "6492            7.2             0.190         0.31  ...     11.4        7          0\n",
              "6493            5.8             0.280         0.34  ...     12.8        7          0\n",
              "6494           10.6             0.500         0.45  ...     10.9        6          1\n",
              "6495            4.9             0.345         0.34  ...     10.1        5          0\n",
              "6496            7.7             0.260         0.51  ...     11.2        6          0\n",
              "\n",
              "[20 rows x 13 columns]"
            ]
          },
          "metadata": {},
          "execution_count": 128
        }
      ]
    },
    {
      "cell_type": "markdown",
      "metadata": {
        "id": "1dk7hRUSPJEg"
      },
      "source": [
        "Random Forest Classifier Manual Testing"
      ]
    },
    {
      "cell_type": "code",
      "metadata": {
        "colab": {
          "base_uri": "https://localhost:8080/"
        },
        "id": "VbhOuhWcAXlm",
        "outputId": "b6a3e4c8-6f56-455d-ccba-e806f12ca2fc"
      },
      "source": [
        "prediction = rc.predict(final_Manual_wine_test_df)\n",
        "for i in prediction:\n",
        "  if i == 1:\n",
        "    print(f\" {i}: 'Good quality Wine' \")\n",
        "  else:\n",
        "    print(f\" {i}: 'Bad Quality Wine' \")\n"
      ],
      "execution_count": 125,
      "outputs": [
        {
          "output_type": "stream",
          "name": "stdout",
          "text": [
            " 0: 'Bad Quality Wine' \n",
            " 0: 'Bad Quality Wine' \n",
            " 0: 'Bad Quality Wine' \n",
            " 0: 'Bad Quality Wine' \n",
            " 0: 'Bad Quality Wine' \n",
            " 0: 'Bad Quality Wine' \n",
            " 0: 'Bad Quality Wine' \n",
            " 0: 'Bad Quality Wine' \n",
            " 0: 'Bad Quality Wine' \n",
            " 0: 'Bad Quality Wine' \n",
            " 0: 'Bad Quality Wine' \n",
            " 0: 'Bad Quality Wine' \n",
            " 0: 'Bad Quality Wine' \n",
            " 0: 'Bad Quality Wine' \n",
            " 0: 'Bad Quality Wine' \n",
            " 0: 'Bad Quality Wine' \n",
            " 0: 'Bad Quality Wine' \n",
            " 0: 'Bad Quality Wine' \n",
            " 0: 'Bad Quality Wine' \n",
            " 0: 'Bad Quality Wine' \n"
          ]
        },
        {
          "output_type": "stream",
          "name": "stderr",
          "text": [
            "/usr/local/lib/python3.7/dist-packages/sklearn/base.py:439: UserWarning: X has feature names, but RandomForestClassifier was fitted without feature names\n",
            "  f\"X has feature names, but {self.__class__.__name__} was fitted without\"\n"
          ]
        }
      ]
    },
    {
      "cell_type": "markdown",
      "metadata": {
        "id": "kjvtzllVPOME"
      },
      "source": [
        "Logistic Regression Manual Testing"
      ]
    },
    {
      "cell_type": "code",
      "metadata": {
        "colab": {
          "base_uri": "https://localhost:8080/"
        },
        "id": "w1ssTgKMGab_",
        "outputId": "9b0d4bb7-1182-4194-ec0d-89001d1efc05"
      },
      "source": [
        "predictionLR = lr.predict(final_Manual_wine_test_df)\n",
        "for i in predictionLR:\n",
        "  if i == 1:\n",
        "    print(f\" {i}: 'Good quality Wine' \")\n",
        "  else:\n",
        "    print(f\" {i}: 'Bad Quality Wine' \")"
      ],
      "execution_count": 126,
      "outputs": [
        {
          "output_type": "stream",
          "name": "stdout",
          "text": [
            " 0: 'Bad Quality Wine' \n",
            " 0: 'Bad Quality Wine' \n",
            " 0: 'Bad Quality Wine' \n",
            " 1: 'Good quality Wine' \n",
            " 0: 'Bad Quality Wine' \n",
            " 0: 'Bad Quality Wine' \n",
            " 0: 'Bad Quality Wine' \n",
            " 0: 'Bad Quality Wine' \n",
            " 0: 'Bad Quality Wine' \n",
            " 0: 'Bad Quality Wine' \n",
            " 0: 'Bad Quality Wine' \n",
            " 0: 'Bad Quality Wine' \n",
            " 0: 'Bad Quality Wine' \n",
            " 0: 'Bad Quality Wine' \n",
            " 0: 'Bad Quality Wine' \n",
            " 0: 'Bad Quality Wine' \n",
            " 0: 'Bad Quality Wine' \n",
            " 0: 'Bad Quality Wine' \n",
            " 0: 'Bad Quality Wine' \n",
            " 0: 'Bad Quality Wine' \n"
          ]
        },
        {
          "output_type": "stream",
          "name": "stderr",
          "text": [
            "/usr/local/lib/python3.7/dist-packages/sklearn/base.py:439: UserWarning: X has feature names, but LogisticRegression was fitted without feature names\n",
            "  f\"X has feature names, but {self.__class__.__name__} was fitted without\"\n"
          ]
        }
      ]
    },
    {
      "cell_type": "markdown",
      "metadata": {
        "id": "fLJarWM5PTzP"
      },
      "source": [
        "Support Vector Machine Manual Testing"
      ]
    },
    {
      "cell_type": "code",
      "metadata": {
        "colab": {
          "base_uri": "https://localhost:8080/"
        },
        "id": "xjJivi1HPYYP",
        "outputId": "1b710cca-1ed9-4145-d148-77ff2c57f1d4"
      },
      "source": [
        "predictionSVM = sv.predict(final_Manual_wine_test_df)\n",
        "for i in predictionSVM:\n",
        "  if i == 1:\n",
        "    print(f\" {i}: 'Good quality Wine' \")\n",
        "  else:\n",
        "    print(f\" {i}: 'Bad Quality Wine' \")"
      ],
      "execution_count": 127,
      "outputs": [
        {
          "output_type": "stream",
          "name": "stdout",
          "text": [
            " 0: 'Bad Quality Wine' \n",
            " 0: 'Bad Quality Wine' \n",
            " 0: 'Bad Quality Wine' \n",
            " 0: 'Bad Quality Wine' \n",
            " 0: 'Bad Quality Wine' \n",
            " 0: 'Bad Quality Wine' \n",
            " 0: 'Bad Quality Wine' \n",
            " 0: 'Bad Quality Wine' \n",
            " 0: 'Bad Quality Wine' \n",
            " 0: 'Bad Quality Wine' \n",
            " 0: 'Bad Quality Wine' \n",
            " 0: 'Bad Quality Wine' \n",
            " 0: 'Bad Quality Wine' \n",
            " 0: 'Bad Quality Wine' \n",
            " 0: 'Bad Quality Wine' \n",
            " 0: 'Bad Quality Wine' \n",
            " 0: 'Bad Quality Wine' \n",
            " 0: 'Bad Quality Wine' \n",
            " 0: 'Bad Quality Wine' \n",
            " 0: 'Bad Quality Wine' \n"
          ]
        },
        {
          "output_type": "stream",
          "name": "stderr",
          "text": [
            "/usr/local/lib/python3.7/dist-packages/sklearn/base.py:439: UserWarning: X has feature names, but SVC was fitted without feature names\n",
            "  f\"X has feature names, but {self.__class__.__name__} was fitted without\"\n"
          ]
        }
      ]
    }
  ]
}